{
 "cells": [
  {
   "cell_type": "code",
   "execution_count": 1,
   "metadata": {},
   "outputs": [],
   "source": [
    "import pytensor\n",
    "#pytensor.config.cxx = \"\""
   ]
  },
  {
   "cell_type": "code",
   "execution_count": 2,
   "metadata": {},
   "outputs": [],
   "source": [
    "# Load Real Data\n",
    "import pandas as pd\n",
    "\n",
    "hii_data = pd.read_csv(\"hii_data.csv\")"
   ]
  },
  {
   "cell_type": "code",
   "execution_count": 3,
   "metadata": {},
   "outputs": [
    {
     "name": "stdout",
     "output_type": "stream",
     "text": [
      "                gname       glong      glat    radius  vlsr  e_vlsr  \\\n",
      "0     G000.335-00.016    0.335364 -0.015004   42.5002  14.0     0.3   \n",
      "1     G000.492+00.191    0.492402  0.191645   42.5000  -7.5     0.1   \n",
      "2     G000.528+00.180    0.528170  0.180976   25.6720  -2.3     1.1   \n",
      "3     G000.573-00.855    0.573000 -0.855000  149.5120  14.2     0.1   \n",
      "4     G000.583-00.868    0.583828 -0.868000   49.5116  14.2     0.1   \n",
      "...               ...         ...       ...       ...   ...     ...   \n",
      "1890  G358.397-00.861  358.397000 -0.860381  261.3700   5.3     0.1   \n",
      "1891  G358.633+00.062  358.633000  0.062001   42.5000  13.8     0.3   \n",
      "1892  G358.641-00.539  358.641000 -0.538599  497.4720  -2.6     1.3   \n",
      "1893  G358.881+00.057  358.881000  0.057693   55.8324  -7.0     0.5   \n",
      "1894  G359.956-00.506  359.956000 -0.505211  165.8700  15.0     0.1   \n",
      "\n",
      "            line     e_line line_unit      beam_area  ...  telescope  kdar  \\\n",
      "0      65.960000   0.680000  mJy/beam    6893.719776  ...        GBT   NaN   \n",
      "1      42.400000   0.192000  mJy/beam    6893.719776  ...        GBT   NaN   \n",
      "2     326.480000  31.416000  mJy/beam  146848.468595  ...  NRAO 140'   NaN   \n",
      "3     112.560000   0.892000  mJy/beam    6893.719776  ...        GBT   NaN   \n",
      "4     112.560000   0.892000  mJy/beam    6893.719776  ...        GBT   NaN   \n",
      "...          ...        ...       ...            ...  ...        ...   ...   \n",
      "1890   13.760000   0.160000  mJy/beam    6893.719776  ...        GBT   NaN   \n",
      "1891   28.008640   0.705899  mJy/beam    1517.730000  ...       ATCA   NaN   \n",
      "1892  154.000000  11.704000  mJy/beam  146848.468595  ...  NRAO 140'   NaN   \n",
      "1893    3.240000   0.164000  mJy/beam    6893.719776  ...        GBT   NaN   \n",
      "1894   37.266667   0.280000  mJy/beam   36712.117149  ...        GBT   NaN   \n",
      "\n",
      "           Rgal      near        far   tangent vlsr_tangent plx dist_author  \\\n",
      "0      0.070317  8.113268   8.218123  8.167271    16.775664 NaN         NaN   \n",
      "1           NaN       NaN        NaN  8.166297    21.052514 NaN         NaN   \n",
      "2      8.819694  0.010000  17.019895  8.164292    21.920021 NaN         NaN   \n",
      "3      0.238432  7.933456   8.388763  8.163998    23.042152 NaN         NaN   \n",
      "4      0.243896  7.931958   8.397181  8.170282    23.369479 NaN         NaN   \n",
      "...         ...       ...        ...       ...          ...  ..         ...   \n",
      "1890  21.434590       NaN  29.597998  8.162886   -41.611439 NaN         NaN   \n",
      "1891        NaN       NaN        NaN  8.167778   -37.947419 NaN         NaN   \n",
      "1892   5.346371  2.846439  13.503074  8.163003   -37.681907 NaN         NaN   \n",
      "1893   2.596525  5.582496  10.795751  8.166072   -33.609979 NaN         NaN   \n",
      "1894        NaN       NaN        NaN  8.162228    -5.219226 NaN         NaN   \n",
      "\n",
      "      te_priority  \n",
      "0               0  \n",
      "1               0  \n",
      "2               0  \n",
      "3               0  \n",
      "4               0  \n",
      "...           ...  \n",
      "1890            0  \n",
      "1891            0  \n",
      "1892            0  \n",
      "1893            0  \n",
      "1894            0  \n",
      "\n",
      "[1895 rows x 27 columns]\n"
     ]
    }
   ],
   "source": [
    "print(hii_data)"
   ]
  },
  {
   "cell_type": "code",
   "execution_count": 4,
   "metadata": {},
   "outputs": [
    {
     "name": "stdout",
     "output_type": "stream",
     "text": [
      "gname                  G011.035+00.065\n",
      "glong                          11.0351\n",
      "glat                          0.065883\n",
      "radius                         42.5002\n",
      "vlsr                              12.1\n",
      "e_vlsr                             0.1\n",
      "line                             21.88\n",
      "e_line                           0.176\n",
      "line_unit                     mJy/beam\n",
      "beam_area                  6893.719776\n",
      "line_freq                       8000.0\n",
      "fwhm                              28.6\n",
      "e_fwhm                             0.3\n",
      "te                                 NaN\n",
      "e_te                             500.0\n",
      "source                    WISE Catalog\n",
      "author          Anderson et al. (2011)\n",
      "telescope                          GBT\n",
      "kdar                               NaN\n",
      "Rgal                          6.523202\n",
      "near                          1.669856\n",
      "far                          14.323675\n",
      "tangent                        8.01436\n",
      "vlsr_tangent                104.164034\n",
      "plx                                NaN\n",
      "dist_author                        NaN\n",
      "te_priority                          0\n",
      "Name: 123, dtype: object\n"
     ]
    }
   ],
   "source": [
    "data = hii_data.iloc[123].copy()\n",
    "\n",
    "print(data)"
   ]
  },
  {
   "cell_type": "code",
   "execution_count": 5,
   "metadata": {},
   "outputs": [],
   "source": [
    "from physiokinematic import model\n",
    "import importlib\n",
    "importlib.reload(model)\n",
    "pkmodel = model.model"
   ]
  },
  {
   "cell_type": "code",
   "execution_count": 6,
   "metadata": {},
   "outputs": [],
   "source": [
    "# setup model\n",
    "my_model = pkmodel(data)"
   ]
  },
  {
   "cell_type": "code",
   "execution_count": 7,
   "metadata": {},
   "outputs": [
    {
     "data": {
      "image/svg+xml": [
       "<?xml version=\"1.0\" encoding=\"UTF-8\" standalone=\"no\"?>\n",
       "<!DOCTYPE svg PUBLIC \"-//W3C//DTD SVG 1.1//EN\"\n",
       " \"http://www.w3.org/Graphics/SVG/1.1/DTD/svg11.dtd\">\n",
       "<!-- Generated by graphviz version 12.0.0 (20240803.0821)\n",
       " -->\n",
       "<!-- Pages: 1 -->\n",
       "<svg width=\"599pt\" height=\"667pt\"\n",
       " viewBox=\"0.00 0.00 599.40 666.75\" xmlns=\"http://www.w3.org/2000/svg\" xmlns:xlink=\"http://www.w3.org/1999/xlink\">\n",
       "<g id=\"graph0\" class=\"graph\" transform=\"scale(1 1) rotate(0) translate(4 662.75)\">\n",
       "<polygon fill=\"white\" stroke=\"none\" points=\"-4,4 -4,-662.75 595.4,-662.75 595.4,4 -4,4\"/>\n",
       "<g id=\"clust1\" class=\"cluster\">\n",
       "<title>clusterkdar (2)</title>\n",
       "<path fill=\"none\" stroke=\"black\" d=\"M250.4,-92.5C250.4,-92.5 571.4,-92.5 571.4,-92.5 577.4,-92.5 583.4,-98.5 583.4,-104.5 583.4,-104.5 583.4,-638.75 583.4,-638.75 583.4,-644.75 577.4,-650.75 571.4,-650.75 571.4,-650.75 250.4,-650.75 250.4,-650.75 244.4,-650.75 238.4,-644.75 238.4,-638.75 238.4,-638.75 238.4,-104.5 238.4,-104.5 238.4,-98.5 244.4,-92.5 250.4,-92.5\"/>\n",
       "<text text-anchor=\"middle\" x=\"547.28\" y=\"-100.45\" font-family=\"Times,serif\" font-size=\"14.00\">kdar (2)</text>\n",
       "</g>\n",
       "<!-- Rgal -->\n",
       "<g id=\"node1\" class=\"node\">\n",
       "<title>Rgal</title>\n",
       "<ellipse fill=\"none\" stroke=\"black\" cx=\"475.4\" cy=\"-600.5\" rx=\"100.41\" ry=\"42.25\"/>\n",
       "<text text-anchor=\"middle\" x=\"475.4\" y=\"-613.07\" font-family=\"Times,serif\" font-size=\"14.00\">Rgal</text>\n",
       "<text text-anchor=\"middle\" x=\"475.4\" y=\"-595.82\" font-family=\"Times,serif\" font-size=\"14.00\">~</text>\n",
       "<text text-anchor=\"middle\" x=\"475.4\" y=\"-578.57\" font-family=\"Times,serif\" font-size=\"14.00\">TruncatedNormal</text>\n",
       "</g>\n",
       "<!-- distance -->\n",
       "<g id=\"node7\" class=\"node\">\n",
       "<title>distance</title>\n",
       "<polygon fill=\"none\" stroke=\"black\" points=\"532.15,-509.87 418.65,-509.87 418.65,-450.12 532.15,-450.12 532.15,-509.87\"/>\n",
       "<text text-anchor=\"middle\" x=\"475.4\" y=\"-492.57\" font-family=\"Times,serif\" font-size=\"14.00\">distance</text>\n",
       "<text text-anchor=\"middle\" x=\"475.4\" y=\"-475.32\" font-family=\"Times,serif\" font-size=\"14.00\">~</text>\n",
       "<text text-anchor=\"middle\" x=\"475.4\" y=\"-458.07\" font-family=\"Times,serif\" font-size=\"14.00\">Deterministic</text>\n",
       "</g>\n",
       "<!-- Rgal&#45;&gt;distance -->\n",
       "<g id=\"edge1\" class=\"edge\">\n",
       "<title>Rgal&#45;&gt;distance</title>\n",
       "<path fill=\"none\" stroke=\"black\" d=\"M475.4,-558.05C475.4,-546.24 475.4,-533.38 475.4,-521.62\"/>\n",
       "<polygon fill=\"black\" stroke=\"black\" points=\"478.9,-521.81 475.4,-511.81 471.9,-521.81 478.9,-521.81\"/>\n",
       "</g>\n",
       "<!-- vlsr -->\n",
       "<g id=\"node10\" class=\"node\">\n",
       "<title>vlsr</title>\n",
       "<ellipse fill=\"lightgrey\" stroke=\"black\" cx=\"133.4\" cy=\"-480\" rx=\"97.23\" ry=\"42.25\"/>\n",
       "<text text-anchor=\"middle\" x=\"133.4\" y=\"-492.57\" font-family=\"Times,serif\" font-size=\"14.00\">vlsr</text>\n",
       "<text text-anchor=\"middle\" x=\"133.4\" y=\"-475.32\" font-family=\"Times,serif\" font-size=\"14.00\">~</text>\n",
       "<text text-anchor=\"middle\" x=\"133.4\" y=\"-458.07\" font-family=\"Times,serif\" font-size=\"14.00\">MarginalMixture</text>\n",
       "</g>\n",
       "<!-- Rgal&#45;&gt;vlsr -->\n",
       "<g id=\"edge3\" class=\"edge\">\n",
       "<title>Rgal&#45;&gt;vlsr</title>\n",
       "<path fill=\"none\" stroke=\"black\" d=\"M402.36,-571.05C390.08,-566.58 377.43,-562.15 365.4,-558.25 307.96,-539.63 291.56,-541.7 234.4,-522.25 227.29,-519.83 219.96,-517.17 212.65,-514.4\"/>\n",
       "<polygon fill=\"black\" stroke=\"black\" points=\"213.99,-511.17 203.4,-510.83 211.47,-517.7 213.99,-511.17\"/>\n",
       "</g>\n",
       "<!-- kdar_w -->\n",
       "<g id=\"node2\" class=\"node\">\n",
       "<title>kdar_w</title>\n",
       "<ellipse fill=\"none\" stroke=\"black\" cx=\"301.4\" cy=\"-600.5\" rx=\"55.33\" ry=\"42.25\"/>\n",
       "<text text-anchor=\"middle\" x=\"301.4\" y=\"-613.07\" font-family=\"Times,serif\" font-size=\"14.00\">kdar_w</text>\n",
       "<text text-anchor=\"middle\" x=\"301.4\" y=\"-595.82\" font-family=\"Times,serif\" font-size=\"14.00\">~</text>\n",
       "<text text-anchor=\"middle\" x=\"301.4\" y=\"-578.57\" font-family=\"Times,serif\" font-size=\"14.00\">Dirichlet</text>\n",
       "</g>\n",
       "<!-- kdar_w&#45;&gt;vlsr -->\n",
       "<g id=\"edge2\" class=\"edge\">\n",
       "<title>kdar_w&#45;&gt;vlsr</title>\n",
       "<path fill=\"none\" stroke=\"black\" d=\"M261.16,-571.11C240.77,-556.73 215.61,-538.98 193.02,-523.05\"/>\n",
       "<polygon fill=\"black\" stroke=\"black\" points=\"195.27,-520.36 185.08,-517.45 191.24,-526.08 195.27,-520.36\"/>\n",
       "</g>\n",
       "<!-- line -->\n",
       "<g id=\"node11\" class=\"node\">\n",
       "<title>line</title>\n",
       "<ellipse fill=\"lightgrey\" stroke=\"black\" cx=\"155.4\" cy=\"-42.25\" rx=\"97.23\" ry=\"42.25\"/>\n",
       "<text text-anchor=\"middle\" x=\"155.4\" y=\"-54.82\" font-family=\"Times,serif\" font-size=\"14.00\">line</text>\n",
       "<text text-anchor=\"middle\" x=\"155.4\" y=\"-37.57\" font-family=\"Times,serif\" font-size=\"14.00\">~</text>\n",
       "<text text-anchor=\"middle\" x=\"155.4\" y=\"-20.32\" font-family=\"Times,serif\" font-size=\"14.00\">MarginalMixture</text>\n",
       "</g>\n",
       "<!-- kdar_w&#45;&gt;line -->\n",
       "<g id=\"edge13\" class=\"edge\">\n",
       "<title>kdar_w&#45;&gt;line</title>\n",
       "<path fill=\"none\" stroke=\"black\" d=\"M247.04,-591.42C175.57,-579.64 55.75,-555.47 27.4,-522.25 -19.59,-467.19 8.4,-432.88 8.4,-360.5 8.4,-360.5 8.4,-360.5 8.4,-250.37 8.4,-184.58 58.35,-125.11 100.01,-86.95\"/>\n",
       "<polygon fill=\"black\" stroke=\"black\" points=\"102.24,-89.66 107.36,-80.38 97.57,-84.44 102.24,-89.66\"/>\n",
       "</g>\n",
       "<!-- log10_q -->\n",
       "<g id=\"node3\" class=\"node\">\n",
       "<title>log10_q</title>\n",
       "<polygon fill=\"none\" stroke=\"black\" points=\"534.15,-185.5 420.65,-185.5 420.65,-125.75 534.15,-125.75 534.15,-185.5\"/>\n",
       "<text text-anchor=\"middle\" x=\"477.4\" y=\"-168.2\" font-family=\"Times,serif\" font-size=\"14.00\">log10_q</text>\n",
       "<text text-anchor=\"middle\" x=\"477.4\" y=\"-150.95\" font-family=\"Times,serif\" font-size=\"14.00\">~</text>\n",
       "<text text-anchor=\"middle\" x=\"477.4\" y=\"-133.7\" font-family=\"Times,serif\" font-size=\"14.00\">Deterministic</text>\n",
       "</g>\n",
       "<!-- log10_Rs -->\n",
       "<g id=\"node4\" class=\"node\">\n",
       "<title>log10_Rs</title>\n",
       "<polygon fill=\"none\" stroke=\"black\" points=\"532.15,-389.37 418.65,-389.37 418.65,-329.62 532.15,-329.62 532.15,-389.37\"/>\n",
       "<text text-anchor=\"middle\" x=\"475.4\" y=\"-372.07\" font-family=\"Times,serif\" font-size=\"14.00\">log10_Rs</text>\n",
       "<text text-anchor=\"middle\" x=\"475.4\" y=\"-354.82\" font-family=\"Times,serif\" font-size=\"14.00\">~</text>\n",
       "<text text-anchor=\"middle\" x=\"475.4\" y=\"-337.57\" font-family=\"Times,serif\" font-size=\"14.00\">Deterministic</text>\n",
       "</g>\n",
       "<!-- log10_Rs&#45;&gt;log10_q -->\n",
       "<g id=\"edge8\" class=\"edge\">\n",
       "<title>log10_Rs&#45;&gt;log10_q</title>\n",
       "<path fill=\"none\" stroke=\"black\" d=\"M489.75,-329.18C495.88,-315.05 502.33,-297.65 505.4,-281.25 510.29,-255.15 510.77,-247.51 505.4,-221.5 503.66,-213.06 500.76,-204.37 497.48,-196.2\"/>\n",
       "<polygon fill=\"black\" stroke=\"black\" points=\"500.78,-195.01 493.61,-187.22 494.35,-197.79 500.78,-195.01\"/>\n",
       "</g>\n",
       "<!-- log10_n -->\n",
       "<g id=\"node5\" class=\"node\">\n",
       "<title>log10_n</title>\n",
       "<polygon fill=\"none\" stroke=\"black\" points=\"496.15,-281.25 382.65,-281.25 382.65,-221.5 496.15,-221.5 496.15,-281.25\"/>\n",
       "<text text-anchor=\"middle\" x=\"439.4\" y=\"-263.95\" font-family=\"Times,serif\" font-size=\"14.00\">log10_n</text>\n",
       "<text text-anchor=\"middle\" x=\"439.4\" y=\"-246.7\" font-family=\"Times,serif\" font-size=\"14.00\">~</text>\n",
       "<text text-anchor=\"middle\" x=\"439.4\" y=\"-229.45\" font-family=\"Times,serif\" font-size=\"14.00\">Deterministic</text>\n",
       "</g>\n",
       "<!-- log10_Rs&#45;&gt;log10_n -->\n",
       "<g id=\"edge6\" class=\"edge\">\n",
       "<title>log10_Rs&#45;&gt;log10_n</title>\n",
       "<path fill=\"none\" stroke=\"black\" d=\"M465.47,-329.22C461.61,-317.85 457.13,-304.65 452.99,-292.43\"/>\n",
       "<polygon fill=\"black\" stroke=\"black\" points=\"456.31,-291.34 449.79,-282.99 449.69,-293.59 456.31,-291.34\"/>\n",
       "</g>\n",
       "<!-- log10_n&#45;&gt;log10_q -->\n",
       "<g id=\"edge7\" class=\"edge\">\n",
       "<title>log10_n&#45;&gt;log10_q</title>\n",
       "<path fill=\"none\" stroke=\"black\" d=\"M451.22,-221.23C454.43,-213.29 457.97,-204.56 461.38,-196.15\"/>\n",
       "<polygon fill=\"black\" stroke=\"black\" points=\"464.51,-197.74 465.02,-187.16 458.02,-195.11 464.51,-197.74\"/>\n",
       "</g>\n",
       "<!-- line_mu -->\n",
       "<g id=\"node6\" class=\"node\">\n",
       "<title>line_mu</title>\n",
       "<polygon fill=\"none\" stroke=\"black\" points=\"360.15,-185.5 246.65,-185.5 246.65,-125.75 360.15,-125.75 360.15,-185.5\"/>\n",
       "<text text-anchor=\"middle\" x=\"303.4\" y=\"-168.2\" font-family=\"Times,serif\" font-size=\"14.00\">line_mu</text>\n",
       "<text text-anchor=\"middle\" x=\"303.4\" y=\"-150.95\" font-family=\"Times,serif\" font-size=\"14.00\">~</text>\n",
       "<text text-anchor=\"middle\" x=\"303.4\" y=\"-133.7\" font-family=\"Times,serif\" font-size=\"14.00\">Deterministic</text>\n",
       "</g>\n",
       "<!-- line_mu&#45;&gt;line -->\n",
       "<g id=\"edge14\" class=\"edge\">\n",
       "<title>line_mu&#45;&gt;line</title>\n",
       "<path fill=\"none\" stroke=\"black\" d=\"M264.52,-125.36C248.54,-113.34 229.73,-99.18 212.27,-86.04\"/>\n",
       "<polygon fill=\"black\" stroke=\"black\" points=\"214.58,-83.4 204.49,-80.19 210.37,-89 214.58,-83.4\"/>\n",
       "</g>\n",
       "<!-- distance&#45;&gt;log10_Rs -->\n",
       "<g id=\"edge4\" class=\"edge\">\n",
       "<title>distance&#45;&gt;log10_Rs</title>\n",
       "<path fill=\"none\" stroke=\"black\" d=\"M475.4,-449.71C475.4,-435.04 475.4,-417.04 475.4,-401.06\"/>\n",
       "<polygon fill=\"black\" stroke=\"black\" points=\"478.9,-401.38 475.4,-391.38 471.9,-401.38 478.9,-401.38\"/>\n",
       "</g>\n",
       "<!-- log10_em -->\n",
       "<g id=\"node8\" class=\"node\">\n",
       "<title>log10_em</title>\n",
       "<ellipse fill=\"none\" stroke=\"black\" cx=\"325.4\" cy=\"-359.5\" rx=\"59.57\" ry=\"42.25\"/>\n",
       "<text text-anchor=\"middle\" x=\"325.4\" y=\"-372.07\" font-family=\"Times,serif\" font-size=\"14.00\">log10_em</text>\n",
       "<text text-anchor=\"middle\" x=\"325.4\" y=\"-354.82\" font-family=\"Times,serif\" font-size=\"14.00\">~</text>\n",
       "<text text-anchor=\"middle\" x=\"325.4\" y=\"-337.57\" font-family=\"Times,serif\" font-size=\"14.00\">Normal</text>\n",
       "</g>\n",
       "<!-- log10_em&#45;&gt;log10_n -->\n",
       "<g id=\"edge5\" class=\"edge\">\n",
       "<title>log10_em&#45;&gt;log10_n</title>\n",
       "<path fill=\"none\" stroke=\"black\" d=\"M361.16,-325.21C373.48,-313.74 387.34,-300.84 399.94,-289.11\"/>\n",
       "<polygon fill=\"black\" stroke=\"black\" points=\"401.97,-292.01 406.9,-282.63 397.2,-286.88 401.97,-292.01\"/>\n",
       "</g>\n",
       "<!-- log10_tau_line -->\n",
       "<g id=\"node9\" class=\"node\">\n",
       "<title>log10_tau_line</title>\n",
       "<polygon fill=\"none\" stroke=\"black\" points=\"364.78,-281.25 246.03,-281.25 246.03,-221.5 364.78,-221.5 364.78,-281.25\"/>\n",
       "<text text-anchor=\"middle\" x=\"305.4\" y=\"-263.95\" font-family=\"Times,serif\" font-size=\"14.00\">log10_tau_line</text>\n",
       "<text text-anchor=\"middle\" x=\"305.4\" y=\"-246.7\" font-family=\"Times,serif\" font-size=\"14.00\">~</text>\n",
       "<text text-anchor=\"middle\" x=\"305.4\" y=\"-229.45\" font-family=\"Times,serif\" font-size=\"14.00\">Deterministic</text>\n",
       "</g>\n",
       "<!-- log10_em&#45;&gt;log10_tau_line -->\n",
       "<g id=\"edge9\" class=\"edge\">\n",
       "<title>log10_em&#45;&gt;log10_tau_line</title>\n",
       "<path fill=\"none\" stroke=\"black\" d=\"M317.61,-317.16C316.11,-309.19 314.53,-300.84 313.04,-292.89\"/>\n",
       "<polygon fill=\"black\" stroke=\"black\" points=\"316.48,-292.28 311.19,-283.1 309.6,-293.58 316.48,-292.28\"/>\n",
       "</g>\n",
       "<!-- log10_tau_line&#45;&gt;line_mu -->\n",
       "<g id=\"edge12\" class=\"edge\">\n",
       "<title>log10_tau_line&#45;&gt;line_mu</title>\n",
       "<path fill=\"none\" stroke=\"black\" d=\"M304.78,-221.23C304.62,-213.55 304.44,-205.14 304.26,-196.99\"/>\n",
       "<polygon fill=\"black\" stroke=\"black\" points=\"307.77,-197.19 304.05,-187.27 300.77,-197.34 307.77,-197.19\"/>\n",
       "</g>\n",
       "<!-- log10_te -->\n",
       "<g id=\"node12\" class=\"node\">\n",
       "<title>log10_te</title>\n",
       "<ellipse fill=\"none\" stroke=\"black\" cx=\"176.4\" cy=\"-359.5\" rx=\"54.27\" ry=\"42.25\"/>\n",
       "<text text-anchor=\"middle\" x=\"176.4\" y=\"-372.07\" font-family=\"Times,serif\" font-size=\"14.00\">log10_te</text>\n",
       "<text text-anchor=\"middle\" x=\"176.4\" y=\"-354.82\" font-family=\"Times,serif\" font-size=\"14.00\">~</text>\n",
       "<text text-anchor=\"middle\" x=\"176.4\" y=\"-337.57\" font-family=\"Times,serif\" font-size=\"14.00\">Normal</text>\n",
       "</g>\n",
       "<!-- log10_te&#45;&gt;line_mu -->\n",
       "<g id=\"edge11\" class=\"edge\">\n",
       "<title>log10_te&#45;&gt;line_mu</title>\n",
       "<path fill=\"none\" stroke=\"black\" d=\"M189.72,-318.36C200.21,-289.89 216.55,-251.56 237.4,-221.5 244.13,-211.79 252.44,-202.31 260.86,-193.73\"/>\n",
       "<polygon fill=\"black\" stroke=\"black\" points=\"263.17,-196.37 267.85,-186.86 258.27,-191.38 263.17,-196.37\"/>\n",
       "</g>\n",
       "<!-- log10_te&#45;&gt;log10_tau_line -->\n",
       "<g id=\"edge10\" class=\"edge\">\n",
       "<title>log10_te&#45;&gt;log10_tau_line</title>\n",
       "<path fill=\"none\" stroke=\"black\" d=\"M213.37,-328.09C228.32,-315.79 245.7,-301.49 261.3,-288.65\"/>\n",
       "<polygon fill=\"black\" stroke=\"black\" points=\"263.1,-291.71 268.59,-282.65 258.65,-286.3 263.1,-291.71\"/>\n",
       "</g>\n",
       "</g>\n",
       "</svg>\n"
      ],
      "text/plain": [
       "<graphviz.graphs.Digraph at 0x7fafebe8d820>"
      ]
     },
     "execution_count": 7,
     "metadata": {},
     "output_type": "execute_result"
    }
   ],
   "source": [
    "# visualize model\n",
    "my_model.to_graphviz()"
   ]
  },
  {
   "cell_type": "code",
   "execution_count": 8,
   "metadata": {},
   "outputs": [
    {
     "name": "stderr",
     "output_type": "stream",
     "text": [
      "Sampling: [Rgal, kdar_w, line, log10_em, log10_te, vlsr]\n"
     ]
    }
   ],
   "source": [
    "import pymc as pm\n",
    "\n",
    "# sample prior predictive\n",
    "with my_model:\n",
    "    prior = pm.sample_prior_predictive(1000)"
   ]
  },
  {
   "cell_type": "code",
   "execution_count": 9,
   "metadata": {},
   "outputs": [
    {
     "name": "stderr",
     "output_type": "stream",
     "text": [
      "/tmp/ipykernel_831527/3376056640.py:6: RuntimeWarning: invalid value encountered in log10\n",
      "  ax.hist(np.log10(prior.prior_predictive[\"line\"].data.flatten()), bins=20, color=\"gray\", edgecolor=\"k\", alpha=0.5)\n"
     ]
    },
    {
     "data": {
      "text/plain": [
       "Text(0.5, 0, 'log$_{10}$ Line (mJy beam$^{-1}$)')"
      ]
     },
     "execution_count": 9,
     "metadata": {},
     "output_type": "execute_result"
    },
    {
     "data": {
      "image/png": "[encoded data removed]",
      "text/plain": [
       "<Figure size 640x480 with 1 Axes>"
      ]
     },
     "metadata": {},
     "output_type": "display_data"
    }
   ],
   "source": [
    "import matplotlib.pyplot as plt\n",
    "import numpy as np\n",
    "\n",
    "# plot prior predictive samples\n",
    "fig, ax = plt.subplots()\n",
    "ax.hist(np.log10(prior.prior_predictive[\"line\"].data.flatten()), bins=20, color=\"gray\", edgecolor=\"k\", alpha=0.5)\n",
    "ax.axvline(np.log10(data[\"line\"]), color=\"r\", lw=2)\n",
    "ax.set_ylabel(\"Number of Samples\")\n",
    "ax.set_xlabel(\"log$_{10}$ Line (mJy beam$^{-1}$)\")"
   ]
  },
  {
   "cell_type": "code",
   "execution_count": 10,
   "metadata": {},
   "outputs": [
    {
     "data": {
      "text/plain": [
       "Text(0.5, 0, '$V_{\\\\rm LSR}$ (km s$^{-1}$)')"
      ]
     },
     "execution_count": 10,
     "metadata": {},
     "output_type": "execute_result"
    },
    {
     "data": {
      "image/png": "[encoded data removed]",
      "text/plain": [
       "<Figure size 640x480 with 1 Axes>"
      ]
     },
     "metadata": {},
     "output_type": "display_data"
    }
   ],
   "source": [
    "# plot prior predictive samples\n",
    "fig, ax = plt.subplots()\n",
    "ax.hist(prior.prior_predictive[\"vlsr\"].data.flatten(), bins=20, color=\"gray\", edgecolor=\"k\", alpha=0.5)\n",
    "ax.axvline(data[\"vlsr\"], color=\"r\", lw=2)\n",
    "ax.set_ylabel(\"Number of Samples\")\n",
    "ax.set_xlabel(r\"$V_{\\rm LSR}$ (km s$^{-1}$)\")"
   ]
  },
  {
   "cell_type": "code",
   "execution_count": 11,
   "metadata": {},
   "outputs": [
    {
     "name": "stdout",
     "output_type": "stream",
     "text": [
      "Not predicting Te\n"
     ]
    }
   ],
   "source": [
    "if not np.isnan(data[\"te\"]):\n",
    "    # plot prior predictive samples\n",
    "    fig, ax = plt.subplots()\n",
    "    ax.hist(np.log10(prior.prior_predictive[\"te\"].data.flatten()), bins=20, color=\"gray\", edgecolor=\"k\", alpha=0.5)\n",
    "    ax.axvline(np.log10(data[\"te\"]), color=\"r\", lw=2)\n",
    "    ax.set_ylabel(\"Number of Samples\")\n",
    "    ax.set_xlabel(\"log$_{10}$ $T_e$ (K)\")\n",
    "else:\n",
    "    print(\"Not predicting Te\")"
   ]
  },
  {
   "cell_type": "code",
   "execution_count": 13,
   "metadata": {},
   "outputs": [
    {
     "data": {
      "image/png": "[encoded data removed]",
      "text/plain": [
       "<Figure size 640x480 with 1 Axes>"
      ]
     },
     "metadata": {},
     "output_type": "display_data"
    }
   ],
   "source": [
    "# plot prior samples\n",
    "fig, ax = plt.subplots()\n",
    "bins = np.linspace(prior.prior[\"Rgal\"].min(), prior.prior[\"Rgal\"].max(), 100)\n",
    "if \"N\" in prior.prior[\"kdar\"]:\n",
    "    ax.hist(prior.prior[\"Rgal\"].sel(kdar=\"N\").data.flatten(), bins=bins, color=\"red\", edgecolor=\"k\", alpha=0.5, label=\"KDAR N\")\n",
    "ax.hist(prior.prior[\"Rgal\"].sel(kdar=\"F\").data.flatten(), bins=bins, color=\"gray\", edgecolor=\"k\", alpha=0.5, label=\"KDAR F\")\n",
    "if \"Rgal\" in data:\n",
    "    ax.axvline(data[\"Rgal\"], color=\"r\", lw=2)\n",
    "ax.set_ylabel(\"Number of Samples\")\n",
    "ax.set_xlabel(\"$R$ (kpc)\")\n",
    "_ = ax.legend(loc='upper right')"
   ]
  },
  {
   "cell_type": "code",
   "execution_count": 14,
   "metadata": {},
   "outputs": [
    {
     "data": {
      "image/png": "[encoded data removed]",
      "text/plain": [
       "<Figure size 640x480 with 1 Axes>"
      ]
     },
     "metadata": {},
     "output_type": "display_data"
    }
   ],
   "source": [
    "# plot prior samples\n",
    "fig, ax = plt.subplots()\n",
    "bins = np.linspace(prior.prior[\"distance\"].min(), prior.prior[\"distance\"].max(), 50)\n",
    "if \"N\" in prior.prior[\"kdar\"]:\n",
    "    ax.hist(prior.prior[\"distance\"].sel(kdar=\"N\").data.flatten(), bins=bins, color=\"red\", edgecolor=\"k\", alpha=0.5, label=\"KDAR N\")\n",
    "ax.hist(prior.prior[\"distance\"].sel(kdar=\"F\").data.flatten(), bins=bins, color=\"gray\", edgecolor=\"k\", alpha=0.5, label=\"KDAR F\")\n",
    "if \"distance\" in data:\n",
    "    ax.axvline(data[\"distance\"], color=\"r\", lw=2)\n",
    "ax.set_ylabel(\"Number of Samples\")\n",
    "ax.set_xlabel(\"$d$ (kpc)\")\n",
    "_ = ax.legend(loc='upper right')"
   ]
  },
  {
   "cell_type": "code",
   "execution_count": null,
   "metadata": {},
   "outputs": [
    {
     "name": "stderr",
     "output_type": "stream",
     "text": [
      "Auto-assigning NUTS sampler...\n",
      "Initializing NUTS using advi+adapt_diag...\n"
     ]
    },
    {
     "data": {
      "application/vnd.jupyter.widget-view+json": {
       "model_id": "7930cb6dec9e433ba6043de682de7ec9",
       "version_major": 2,
       "version_minor": 0
      },
      "text/plain": [
       "Output()"
      ]
     },
     "metadata": {},
     "output_type": "display_data"
    },
    {
     "data": {
      "text/html": [
       "<pre style=\"white-space:pre;overflow-x:auto;line-height:normal;font-family:Menlo,'DejaVu Sans Mono',consolas,'Courier New',monospace\"></pre>\n"
      ],
      "text/plain": []
     },
     "metadata": {},
     "output_type": "display_data"
    },
    {
     "name": "stderr",
     "output_type": "stream",
     "text": [
      "Convergence achieved at 17100\n",
      "Interrupted at 17,099 [8%]: Average Loss = 2.7351e+05\n",
      "Multiprocess sampling (4 chains in 4 jobs)\n",
      "NUTS: [kdar_w, Rgal, log10_te, log10_em]\n"
     ]
    },
    {
     "data": {
      "application/vnd.jupyter.widget-view+json": {
       "model_id": "71e2bfee01a9422b9dd82a05ee6503a0",
       "version_major": 2,
       "version_minor": 0
      },
      "text/plain": [
       "Output()"
      ]
     },
     "metadata": {},
     "output_type": "display_data"
    }
   ],
   "source": [
    "# sample posterior dont run on macbook. run on scylla \n",
    "with my_model:\n",
    "    trace = pm.sample(init=\"advi+adapt_diag\", chains=4, cores=4, tune=1000, draws=1000, target_accept=0.85)"
   ]
  },
  {
   "cell_type": "code",
   "execution_count": null,
   "metadata": {},
   "outputs": [],
   "source": [
    " pm.summary(trace)"
   ]
  },
  {
   "cell_type": "code",
   "execution_count": null,
   "metadata": {},
   "outputs": [],
   "source": [
    "pm.plot_trace(trace)"
   ]
  },
  {
   "cell_type": "code",
   "execution_count": null,
   "metadata": {},
   "outputs": [],
   "source": [
    "pm.plot_pair(trace, kind=\"kde\", var_names=[\"Rgal\", \"log10_te\", \"log10_em\"], marginals=True)"
   ]
  },
  {
   "cell_type": "code",
   "execution_count": null,
   "metadata": {},
   "outputs": [],
   "source": [
    "# sample posterior predictive\n",
    "with my_model:\n",
    "    posterior = pm.sample_posterior_predictive(trace.sel(draw=slice(None, None, 10)))"
   ]
  },
  {
   "cell_type": "code",
   "execution_count": null,
   "metadata": {},
   "outputs": [],
   "source": [
    "# plot posteriorr predictive samples\n",
    "fig, ax = plt.subplots()\n",
    "ax.hist(np.log10(posterior.posterior_predictive[\"line\"].data.flatten()), bins=20, color=\"gray\", edgecolor=\"k\", alpha=0.5)\n",
    "ax.axvline(np.log10(data[\"line\"]), color=\"r\", lw=2)\n",
    "ax.set_ylabel(\"Number of Samples\")\n",
    "ax.set_xlabel(\"log$_{10}$ Line (mJy beam$^{-1}$)\")"
   ]
  },
  {
   "cell_type": "code",
   "execution_count": null,
   "metadata": {},
   "outputs": [],
   "source": [
    "# plot prior predictive samples\n",
    "fig, ax = plt.subplots()\n",
    "ax.hist(posterior.posterior_predictive[\"vlsr\"].data.flatten(), bins=20, color=\"gray\", edgecolor=\"k\", alpha=0.5)\n",
    "ax.axvline(data[\"vlsr\"], color=\"r\", lw=2)\n",
    "ax.set_ylabel(\"Number of Samples\")\n",
    "ax.set_xlabel(r\"$V_{\\rm LSR}$ (km s$^{-1}$)\")"
   ]
  },
  {
   "cell_type": "code",
   "execution_count": null,
   "metadata": {},
   "outputs": [],
   "source": [
    "if not np.isnan(data[\"te\"]):\n",
    "    # plot prior predictive samples\n",
    "    fig, ax = plt.subplots()\n",
    "    ax.hist(np.log10(posterior.posterior_predictive[\"te\"].data.flatten()), bins=20, color=\"gray\", edgecolor=\"k\", alpha=0.5)\n",
    "    ax.axvline(np.log10(data[\"te\"]), color=\"r\", lw=2)\n",
    "    ax.set_ylabel(\"Number of Samples\")\n",
    "    ax.set_xlabel(\"log$_{10}$ $T_e$ (K)\")"
   ]
  },
  {
   "cell_type": "code",
   "execution_count": null,
   "metadata": {},
   "outputs": [],
   "source": [
    "# plot prior predictive samples\n",
    "fig, ax = plt.subplots()\n",
    "ax.hist(trace.posterior[\"kdar_w\"].sel(kdar=\"F\").data.flatten(), bins=20, color=\"gray\", edgecolor=\"k\", alpha=0.5)\n",
    "ax.set_ylabel(\"Number of Samples\")\n",
    "ax.set_xlabel(r\"$P_{\\rm far}$\")"
   ]
  },
  {
   "cell_type": "code",
   "execution_count": null,
   "metadata": {},
   "outputs": [],
   "source": [
    "# plot prior predictive samples\n",
    "fig, ax = plt.subplots()\n",
    "ax.hist(trace.posterior[\"distance\"].sel(kdar=\"F\").data.flatten(), bins=20, color=\"gray\", edgecolor=\"k\", alpha=0.5)\n",
    "#ax.axvline(data[\"distance\"], color=\"r\", lw=2)\n",
    "ax.set_ylabel(\"Number of Samples\")\n",
    "ax.set_xlabel(\"$d$ (kpc)\")"
   ]
  },
  {
   "cell_type": "code",
   "execution_count": null,
   "metadata": {},
   "outputs": [],
   "source": []
  },
  {
   "cell_type": "code",
   "execution_count": null,
   "metadata": {},
   "outputs": [],
   "source": []
  },
  {
   "cell_type": "code",
   "execution_count": null,
   "metadata": {},
   "outputs": [],
   "source": []
  },
  {
   "cell_type": "code",
   "execution_count": null,
   "metadata": {},
   "outputs": [],
   "source": []
  }
 ],
 "metadata": {
  "kernelspec": {
   "display_name": "Python 3 (ipykernel)",
   "language": "python",
   "name": "python3"
  },
  "language_info": {
   "codemirror_mode": {
    "name": "ipython",
    "version": 3
   },
   "file_extension": ".py",
   "mimetype": "text/x-python",
   "name": "python",
   "nbconvert_exporter": "python",
   "pygments_lexer": "ipython3",
   "version": "3.12.6"
  }
 },
 "nbformat": 4,
 "nbformat_minor": 4
}
