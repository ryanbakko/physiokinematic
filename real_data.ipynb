{
 "cells": [
  {
   "cell_type": "code",
   "execution_count": 2,
   "metadata": {},
   "outputs": [
    {
     "name": "stderr",
     "output_type": "stream",
     "text": [
      "WARNING (pytensor.tensor.blas): Using NumPy C-API based implementation for BLAS functions.\n"
     ]
    }
   ],
   "source": [
    "import pytensor\n",
    "pytensor.config.cxx = \"\""
   ]
  },
  {
   "cell_type": "code",
   "execution_count": 3,
   "metadata": {},
   "outputs": [],
   "source": [
    "# Load Real Data\n",
    "import pandas as pd\n",
    "\n",
    "hii_data = pd.read_csv(\"hii_data.csv\")"
   ]
  },
  {
   "cell_type": "code",
   "execution_count": 4,
   "metadata": {},
   "outputs": [
    {
     "name": "stdout",
     "output_type": "stream",
     "text": [
      "                gname       glong      glat    radius  vlsr  e_vlsr  \\\n",
      "0     G000.335-00.016    0.335364 -0.015004   42.5002  14.0     0.3   \n",
      "1     G000.492+00.191    0.492402  0.191645   42.5000  -7.5     0.1   \n",
      "2     G000.528+00.180    0.528170  0.180976   25.6720  -2.3     1.1   \n",
      "3     G000.573-00.855    0.573000 -0.855000  149.5120  14.2     0.1   \n",
      "4     G000.583-00.868    0.583828 -0.868000   49.5116  14.2     0.1   \n",
      "...               ...         ...       ...       ...   ...     ...   \n",
      "1890  G358.397-00.861  358.397000 -0.860381  261.3700   5.3     0.1   \n",
      "1891  G358.633+00.062  358.633000  0.062001   42.5000  13.8     0.3   \n",
      "1892  G358.641-00.539  358.641000 -0.538599  497.4720  -2.6     1.3   \n",
      "1893  G358.881+00.057  358.881000  0.057693   55.8324  -7.0     0.5   \n",
      "1894  G359.956-00.506  359.956000 -0.505211  165.8700  15.0     0.1   \n",
      "\n",
      "            line     e_line line_unit      beam_area  ...  telescope  kdar  \\\n",
      "0      65.960000   0.680000  mJy/beam    6893.719776  ...        GBT   NaN   \n",
      "1      42.400000   0.192000  mJy/beam    6893.719776  ...        GBT   NaN   \n",
      "2     326.480000  31.416000  mJy/beam  146848.468595  ...  NRAO 140'   NaN   \n",
      "3     112.560000   0.892000  mJy/beam    6893.719776  ...        GBT   NaN   \n",
      "4     112.560000   0.892000  mJy/beam    6893.719776  ...        GBT   NaN   \n",
      "...          ...        ...       ...            ...  ...        ...   ...   \n",
      "1890   13.760000   0.160000  mJy/beam    6893.719776  ...        GBT   NaN   \n",
      "1891   28.008640   0.705899  mJy/beam    1517.730000  ...       ATCA   NaN   \n",
      "1892  154.000000  11.704000  mJy/beam  146848.468595  ...  NRAO 140'   NaN   \n",
      "1893    3.240000   0.164000  mJy/beam    6893.719776  ...        GBT   NaN   \n",
      "1894   37.266667   0.280000  mJy/beam   36712.117149  ...        GBT   NaN   \n",
      "\n",
      "           Rgal      near        far   tangent vlsr_tangent plx dist_author  \\\n",
      "0      0.070317  8.113268   8.218123  8.167271    16.775664 NaN         NaN   \n",
      "1           NaN       NaN        NaN  8.166297    21.052514 NaN         NaN   \n",
      "2      8.819694  0.010000  17.019895  8.164292    21.920021 NaN         NaN   \n",
      "3      0.238432  7.933456   8.388763  8.163998    23.042152 NaN         NaN   \n",
      "4      0.243896  7.931958   8.397181  8.170282    23.369479 NaN         NaN   \n",
      "...         ...       ...        ...       ...          ...  ..         ...   \n",
      "1890  21.434590       NaN  29.597998  8.162886   -41.611439 NaN         NaN   \n",
      "1891        NaN       NaN        NaN  8.167778   -37.947419 NaN         NaN   \n",
      "1892   5.346371  2.846439  13.503074  8.163003   -37.681907 NaN         NaN   \n",
      "1893   2.596525  5.582496  10.795751  8.166072   -33.609979 NaN         NaN   \n",
      "1894        NaN       NaN        NaN  8.162228    -5.219226 NaN         NaN   \n",
      "\n",
      "      te_priority  \n",
      "0               0  \n",
      "1               0  \n",
      "2               0  \n",
      "3               0  \n",
      "4               0  \n",
      "...           ...  \n",
      "1890            0  \n",
      "1891            0  \n",
      "1892            0  \n",
      "1893            0  \n",
      "1894            0  \n",
      "\n",
      "[1895 rows x 27 columns]\n"
     ]
    }
   ],
   "source": [
    "print(hii_data)"
   ]
  },
  {
   "cell_type": "code",
   "execution_count": 5,
   "metadata": {},
   "outputs": [
    {
     "name": "stdout",
     "output_type": "stream",
     "text": [
      "gname                  G011.035+00.065\n",
      "glong                          11.0351\n",
      "glat                          0.065883\n",
      "radius                         42.5002\n",
      "vlsr                              12.1\n",
      "e_vlsr                             0.1\n",
      "line                             21.88\n",
      "e_line                           0.176\n",
      "line_unit                     mJy/beam\n",
      "beam_area                  6893.719776\n",
      "line_freq                       8000.0\n",
      "fwhm                              28.6\n",
      "e_fwhm                             0.3\n",
      "te                                 NaN\n",
      "e_te                             500.0\n",
      "source                    WISE Catalog\n",
      "author          Anderson et al. (2011)\n",
      "telescope                          GBT\n",
      "kdar                               NaN\n",
      "Rgal                          6.523202\n",
      "near                          1.669856\n",
      "far                          14.323675\n",
      "tangent                        8.01436\n",
      "vlsr_tangent                104.164034\n",
      "plx                                NaN\n",
      "dist_author                        NaN\n",
      "te_priority                          0\n",
      "Name: 123, dtype: object\n"
     ]
    }
   ],
   "source": [
    "data = hii_data.iloc[123].copy()\n",
    "\n",
    "print(data)"
   ]
  },
  {
   "cell_type": "code",
   "execution_count": 6,
   "metadata": {},
   "outputs": [],
   "source": [
    "from physiokinematic import model\n",
    "import importlib\n",
    "importlib.reload(model)\n",
    "pkmodel = model.model"
   ]
  },
  {
   "cell_type": "code",
   "execution_count": 7,
   "metadata": {},
   "outputs": [],
   "source": [
    "# setup model\n",
    "my_model = pkmodel(data)"
   ]
  },
  {
   "cell_type": "code",
   "execution_count": 8,
   "metadata": {},
   "outputs": [
    {
     "data": {
      "image/svg+xml": [
       "<?xml version=\"1.0\" encoding=\"UTF-8\" standalone=\"no\"?>\n",
       "<!DOCTYPE svg PUBLIC \"-//W3C//DTD SVG 1.1//EN\"\n",
       " \"http://www.w3.org/Graphics/SVG/1.1/DTD/svg11.dtd\">\n",
       "<!-- Generated by graphviz version 12.0.0 (0)\n",
       " -->\n",
       "<!-- Pages: 1 -->\n",
       "<svg width=\"499pt\" height=\"649pt\"\n",
       " viewBox=\"0.00 0.00 499.36 648.77\" xmlns=\"http://www.w3.org/2000/svg\" xmlns:xlink=\"http://www.w3.org/1999/xlink\">\n",
       "<g id=\"graph0\" class=\"graph\" transform=\"scale(1 1) rotate(0) translate(4 644.77)\">\n",
       "<polygon fill=\"white\" stroke=\"none\" points=\"-4,4 -4,-644.77 495.36,-644.77 495.36,4 -4,4\"/>\n",
       "<g id=\"clust1\" class=\"cluster\">\n",
       "<title>clusterkdar (2)</title>\n",
       "<path fill=\"none\" stroke=\"black\" d=\"M211.36,-89.32C211.36,-89.32 471.36,-89.32 471.36,-89.32 477.36,-89.32 483.36,-95.32 483.36,-101.32 483.36,-101.32 483.36,-620.77 483.36,-620.77 483.36,-626.77 477.36,-632.77 471.36,-632.77 471.36,-632.77 211.36,-632.77 211.36,-632.77 205.36,-632.77 199.36,-626.77 199.36,-620.77 199.36,-620.77 199.36,-101.32 199.36,-101.32 199.36,-95.32 205.36,-89.32 211.36,-89.32\"/>\n",
       "<text text-anchor=\"middle\" x=\"453.61\" y=\"-96.52\" font-family=\"Times,serif\" font-size=\"14.00\">kdar (2)</text>\n",
       "</g>\n",
       "<!-- distance -->\n",
       "<g id=\"node1\" class=\"node\">\n",
       "<title>distance</title>\n",
       "<polygon fill=\"none\" stroke=\"black\" points=\"440.48,-495.54 350.23,-495.54 350.23,-438.04 440.48,-438.04 440.48,-495.54\"/>\n",
       "<text text-anchor=\"middle\" x=\"395.36\" y=\"-478.24\" font-family=\"Times,serif\" font-size=\"14.00\">distance</text>\n",
       "<text text-anchor=\"middle\" x=\"395.36\" y=\"-461.74\" font-family=\"Times,serif\" font-size=\"14.00\">~</text>\n",
       "<text text-anchor=\"middle\" x=\"395.36\" y=\"-445.24\" font-family=\"Times,serif\" font-size=\"14.00\">Deterministic</text>\n",
       "</g>\n",
       "<!-- log10_Rs -->\n",
       "<g id=\"node7\" class=\"node\">\n",
       "<title>log10_Rs</title>\n",
       "<polygon fill=\"none\" stroke=\"black\" points=\"440.48,-378.23 350.23,-378.23 350.23,-320.73 440.48,-320.73 440.48,-378.23\"/>\n",
       "<text text-anchor=\"middle\" x=\"395.36\" y=\"-360.93\" font-family=\"Times,serif\" font-size=\"14.00\">log10_Rs</text>\n",
       "<text text-anchor=\"middle\" x=\"395.36\" y=\"-344.43\" font-family=\"Times,serif\" font-size=\"14.00\">~</text>\n",
       "<text text-anchor=\"middle\" x=\"395.36\" y=\"-327.93\" font-family=\"Times,serif\" font-size=\"14.00\">Deterministic</text>\n",
       "</g>\n",
       "<!-- distance&#45;&gt;log10_Rs -->\n",
       "<g id=\"edge4\" class=\"edge\">\n",
       "<title>distance&#45;&gt;log10_Rs</title>\n",
       "<path fill=\"none\" stroke=\"black\" d=\"M395.36,-437.58C395.36,-423.24 395.36,-405.57 395.36,-389.9\"/>\n",
       "<polygon fill=\"black\" stroke=\"black\" points=\"398.86,-389.91 395.36,-379.91 391.86,-389.91 398.86,-389.91\"/>\n",
       "</g>\n",
       "<!-- kdar_w -->\n",
       "<g id=\"node2\" class=\"node\">\n",
       "<title>kdar_w</title>\n",
       "<ellipse fill=\"none\" stroke=\"black\" cx=\"252.36\" cy=\"-584.11\" rx=\"45.25\" ry=\"40.66\"/>\n",
       "<text text-anchor=\"middle\" x=\"252.36\" y=\"-595.56\" font-family=\"Times,serif\" font-size=\"14.00\">kdar_w</text>\n",
       "<text text-anchor=\"middle\" x=\"252.36\" y=\"-579.06\" font-family=\"Times,serif\" font-size=\"14.00\">~</text>\n",
       "<text text-anchor=\"middle\" x=\"252.36\" y=\"-562.56\" font-family=\"Times,serif\" font-size=\"14.00\">Dirichlet</text>\n",
       "</g>\n",
       "<!-- vlsr -->\n",
       "<g id=\"node10\" class=\"node\">\n",
       "<title>vlsr</title>\n",
       "<ellipse fill=\"lightgrey\" stroke=\"black\" cx=\"113.36\" cy=\"-466.79\" rx=\"78.14\" ry=\"40.66\"/>\n",
       "<text text-anchor=\"middle\" x=\"113.36\" y=\"-478.24\" font-family=\"Times,serif\" font-size=\"14.00\">vlsr</text>\n",
       "<text text-anchor=\"middle\" x=\"113.36\" y=\"-461.74\" font-family=\"Times,serif\" font-size=\"14.00\">~</text>\n",
       "<text text-anchor=\"middle\" x=\"113.36\" y=\"-445.24\" font-family=\"Times,serif\" font-size=\"14.00\">MarginalMixture</text>\n",
       "</g>\n",
       "<!-- kdar_w&#45;&gt;vlsr -->\n",
       "<g id=\"edge3\" class=\"edge\">\n",
       "<title>kdar_w&#45;&gt;vlsr</title>\n",
       "<path fill=\"none\" stroke=\"black\" d=\"M219.41,-555.78C202.57,-541.81 181.73,-524.52 162.99,-508.97\"/>\n",
       "<polygon fill=\"black\" stroke=\"black\" points=\"165.36,-506.39 155.43,-502.7 160.89,-511.78 165.36,-506.39\"/>\n",
       "</g>\n",
       "<!-- line -->\n",
       "<g id=\"node11\" class=\"node\">\n",
       "<title>line</title>\n",
       "<ellipse fill=\"lightgrey\" stroke=\"black\" cx=\"129.36\" cy=\"-40.66\" rx=\"78.14\" ry=\"40.66\"/>\n",
       "<text text-anchor=\"middle\" x=\"129.36\" y=\"-52.11\" font-family=\"Times,serif\" font-size=\"14.00\">line</text>\n",
       "<text text-anchor=\"middle\" x=\"129.36\" y=\"-35.61\" font-family=\"Times,serif\" font-size=\"14.00\">~</text>\n",
       "<text text-anchor=\"middle\" x=\"129.36\" y=\"-19.11\" font-family=\"Times,serif\" font-size=\"14.00\">MarginalMixture</text>\n",
       "</g>\n",
       "<!-- kdar_w&#45;&gt;line -->\n",
       "<g id=\"edge14\" class=\"edge\">\n",
       "<title>kdar_w&#45;&gt;line</title>\n",
       "<path fill=\"none\" stroke=\"black\" d=\"M207.1,-581.61C154.88,-577.26 70.55,-561.64 26.36,-507.45 -18.06,-452.99 7.36,-420.75 7.36,-350.48 7.36,-350.48 7.36,-350.48 7.36,-243.07 7.36,-181.69 49.32,-123.02 84.03,-85.01\"/>\n",
       "<polygon fill=\"black\" stroke=\"black\" points=\"86.45,-87.54 90.72,-77.85 81.34,-82.76 86.45,-87.54\"/>\n",
       "</g>\n",
       "<!-- log10_tau_line -->\n",
       "<g id=\"node3\" class=\"node\">\n",
       "<title>log10_tau_line</title>\n",
       "<polygon fill=\"none\" stroke=\"black\" points=\"304.86,-272.82 207.86,-272.82 207.86,-215.32 304.86,-215.32 304.86,-272.82\"/>\n",
       "<text text-anchor=\"middle\" x=\"256.36\" y=\"-255.52\" font-family=\"Times,serif\" font-size=\"14.00\">log10_tau_line</text>\n",
       "<text text-anchor=\"middle\" x=\"256.36\" y=\"-239.02\" font-family=\"Times,serif\" font-size=\"14.00\">~</text>\n",
       "<text text-anchor=\"middle\" x=\"256.36\" y=\"-222.52\" font-family=\"Times,serif\" font-size=\"14.00\">Deterministic</text>\n",
       "</g>\n",
       "<!-- line_mu -->\n",
       "<g id=\"node6\" class=\"node\">\n",
       "<title>line_mu</title>\n",
       "<polygon fill=\"none\" stroke=\"black\" points=\"297.48,-179.32 207.23,-179.32 207.23,-121.82 297.48,-121.82 297.48,-179.32\"/>\n",
       "<text text-anchor=\"middle\" x=\"252.36\" y=\"-162.02\" font-family=\"Times,serif\" font-size=\"14.00\">line_mu</text>\n",
       "<text text-anchor=\"middle\" x=\"252.36\" y=\"-145.52\" font-family=\"Times,serif\" font-size=\"14.00\">~</text>\n",
       "<text text-anchor=\"middle\" x=\"252.36\" y=\"-129.02\" font-family=\"Times,serif\" font-size=\"14.00\">Deterministic</text>\n",
       "</g>\n",
       "<!-- log10_tau_line&#45;&gt;line_mu -->\n",
       "<g id=\"edge11\" class=\"edge\">\n",
       "<title>log10_tau_line&#45;&gt;line_mu</title>\n",
       "<path fill=\"none\" stroke=\"black\" d=\"M255.13,-215.12C254.8,-207.47 254.43,-199.04 254.07,-190.89\"/>\n",
       "<polygon fill=\"black\" stroke=\"black\" points=\"257.58,-191.01 253.65,-181.17 250.59,-191.32 257.58,-191.01\"/>\n",
       "</g>\n",
       "<!-- log10_em -->\n",
       "<g id=\"node4\" class=\"node\">\n",
       "<title>log10_em</title>\n",
       "<ellipse fill=\"none\" stroke=\"black\" cx=\"271.36\" cy=\"-349.48\" rx=\"50.03\" ry=\"40.66\"/>\n",
       "<text text-anchor=\"middle\" x=\"271.36\" y=\"-360.93\" font-family=\"Times,serif\" font-size=\"14.00\">log10_em</text>\n",
       "<text text-anchor=\"middle\" x=\"271.36\" y=\"-344.43\" font-family=\"Times,serif\" font-size=\"14.00\">~</text>\n",
       "<text text-anchor=\"middle\" x=\"271.36\" y=\"-327.93\" font-family=\"Times,serif\" font-size=\"14.00\">Normal</text>\n",
       "</g>\n",
       "<!-- log10_em&#45;&gt;log10_tau_line -->\n",
       "<g id=\"edge9\" class=\"edge\">\n",
       "<title>log10_em&#45;&gt;log10_tau_line</title>\n",
       "<path fill=\"none\" stroke=\"black\" d=\"M265.6,-308.79C264.44,-300.83 263.23,-292.47 262.08,-284.52\"/>\n",
       "<polygon fill=\"black\" stroke=\"black\" points=\"265.56,-284.15 260.66,-274.75 258.63,-285.15 265.56,-284.15\"/>\n",
       "</g>\n",
       "<!-- log10_n -->\n",
       "<g id=\"node9\" class=\"node\">\n",
       "<title>log10_n</title>\n",
       "<polygon fill=\"none\" stroke=\"black\" points=\"413.48,-272.82 323.23,-272.82 323.23,-215.32 413.48,-215.32 413.48,-272.82\"/>\n",
       "<text text-anchor=\"middle\" x=\"368.36\" y=\"-255.52\" font-family=\"Times,serif\" font-size=\"14.00\">log10_n</text>\n",
       "<text text-anchor=\"middle\" x=\"368.36\" y=\"-239.02\" font-family=\"Times,serif\" font-size=\"14.00\">~</text>\n",
       "<text text-anchor=\"middle\" x=\"368.36\" y=\"-222.52\" font-family=\"Times,serif\" font-size=\"14.00\">Deterministic</text>\n",
       "</g>\n",
       "<!-- log10_em&#45;&gt;log10_n -->\n",
       "<g id=\"edge5\" class=\"edge\">\n",
       "<title>log10_em&#45;&gt;log10_n</title>\n",
       "<path fill=\"none\" stroke=\"black\" d=\"M301.25,-316.61C311.73,-305.43 323.58,-292.8 334.37,-281.3\"/>\n",
       "<polygon fill=\"black\" stroke=\"black\" points=\"336.68,-283.95 340.97,-274.26 331.58,-279.16 336.68,-283.95\"/>\n",
       "</g>\n",
       "<!-- Rgal -->\n",
       "<g id=\"node5\" class=\"node\">\n",
       "<title>Rgal</title>\n",
       "<ellipse fill=\"none\" stroke=\"black\" cx=\"395.36\" cy=\"-584.11\" rx=\"79.73\" ry=\"40.66\"/>\n",
       "<text text-anchor=\"middle\" x=\"395.36\" y=\"-595.56\" font-family=\"Times,serif\" font-size=\"14.00\">Rgal</text>\n",
       "<text text-anchor=\"middle\" x=\"395.36\" y=\"-579.06\" font-family=\"Times,serif\" font-size=\"14.00\">~</text>\n",
       "<text text-anchor=\"middle\" x=\"395.36\" y=\"-562.56\" font-family=\"Times,serif\" font-size=\"14.00\">TruncatedNormal</text>\n",
       "</g>\n",
       "<!-- Rgal&#45;&gt;distance -->\n",
       "<g id=\"edge1\" class=\"edge\">\n",
       "<title>Rgal&#45;&gt;distance</title>\n",
       "<path fill=\"none\" stroke=\"black\" d=\"M395.36,-543.1C395.36,-531.39 395.36,-518.61 395.36,-506.95\"/>\n",
       "<polygon fill=\"black\" stroke=\"black\" points=\"398.86,-507.27 395.36,-497.27 391.86,-507.27 398.86,-507.27\"/>\n",
       "</g>\n",
       "<!-- Rgal&#45;&gt;vlsr -->\n",
       "<g id=\"edge2\" class=\"edge\">\n",
       "<title>Rgal&#45;&gt;vlsr</title>\n",
       "<path fill=\"none\" stroke=\"black\" d=\"M336.84,-555.99C326.75,-551.61 316.3,-547.27 306.36,-543.45 257.93,-524.87 243.48,-526.79 195.36,-507.45 189.85,-505.24 184.2,-502.83 178.57,-500.32\"/>\n",
       "<polygon fill=\"black\" stroke=\"black\" points=\"180.4,-497.31 169.85,-496.34 177.5,-503.68 180.4,-497.31\"/>\n",
       "</g>\n",
       "<!-- line_mu&#45;&gt;line -->\n",
       "<g id=\"edge13\" class=\"edge\">\n",
       "<title>line_mu&#45;&gt;line</title>\n",
       "<path fill=\"none\" stroke=\"black\" d=\"M220.36,-121.5C207.15,-109.91 191.56,-96.23 177.05,-83.5\"/>\n",
       "<polygon fill=\"black\" stroke=\"black\" points=\"179.62,-81.1 169.8,-77.14 175.01,-86.37 179.62,-81.1\"/>\n",
       "</g>\n",
       "<!-- log10_q -->\n",
       "<g id=\"node8\" class=\"node\">\n",
       "<title>log10_q</title>\n",
       "<polygon fill=\"none\" stroke=\"black\" points=\"444.48,-179.32 354.23,-179.32 354.23,-121.82 444.48,-121.82 444.48,-179.32\"/>\n",
       "<text text-anchor=\"middle\" x=\"399.36\" y=\"-162.02\" font-family=\"Times,serif\" font-size=\"14.00\">log10_q</text>\n",
       "<text text-anchor=\"middle\" x=\"399.36\" y=\"-145.52\" font-family=\"Times,serif\" font-size=\"14.00\">~</text>\n",
       "<text text-anchor=\"middle\" x=\"399.36\" y=\"-129.02\" font-family=\"Times,serif\" font-size=\"14.00\">Deterministic</text>\n",
       "</g>\n",
       "<!-- log10_Rs&#45;&gt;log10_q -->\n",
       "<g id=\"edge8\" class=\"edge\">\n",
       "<title>log10_Rs&#45;&gt;log10_q</title>\n",
       "<path fill=\"none\" stroke=\"black\" d=\"M407.99,-320.36C413.59,-306.37 419.55,-289.03 422.36,-272.82 426.71,-247.64 426.76,-240.49 422.36,-215.32 420.91,-207.03 418.47,-198.4 415.72,-190.26\"/>\n",
       "<polygon fill=\"black\" stroke=\"black\" points=\"419.05,-189.18 412.34,-180.98 412.47,-191.57 419.05,-189.18\"/>\n",
       "</g>\n",
       "<!-- log10_Rs&#45;&gt;log10_n -->\n",
       "<g id=\"edge6\" class=\"edge\">\n",
       "<title>log10_Rs&#45;&gt;log10_n</title>\n",
       "<path fill=\"none\" stroke=\"black\" d=\"M388.05,-320.49C385.11,-309.23 381.66,-296.04 378.49,-283.88\"/>\n",
       "<polygon fill=\"black\" stroke=\"black\" points=\"381.96,-283.33 376.05,-274.54 375.19,-285.1 381.96,-283.33\"/>\n",
       "</g>\n",
       "<!-- log10_n&#45;&gt;log10_q -->\n",
       "<g id=\"edge7\" class=\"edge\">\n",
       "<title>log10_n&#45;&gt;log10_q</title>\n",
       "<path fill=\"none\" stroke=\"black\" d=\"M377.82,-215.12C380.47,-207.3 383.4,-198.65 386.22,-190.33\"/>\n",
       "<polygon fill=\"black\" stroke=\"black\" points=\"389.46,-191.69 389.35,-181.1 382.83,-189.44 389.46,-191.69\"/>\n",
       "</g>\n",
       "<!-- log10_te -->\n",
       "<g id=\"node12\" class=\"node\">\n",
       "<title>log10_te</title>\n",
       "<ellipse fill=\"none\" stroke=\"black\" cx=\"146.36\" cy=\"-349.48\" rx=\"44.72\" ry=\"40.66\"/>\n",
       "<text text-anchor=\"middle\" x=\"146.36\" y=\"-360.93\" font-family=\"Times,serif\" font-size=\"14.00\">log10_te</text>\n",
       "<text text-anchor=\"middle\" x=\"146.36\" y=\"-344.43\" font-family=\"Times,serif\" font-size=\"14.00\">~</text>\n",
       "<text text-anchor=\"middle\" x=\"146.36\" y=\"-327.93\" font-family=\"Times,serif\" font-size=\"14.00\">Normal</text>\n",
       "</g>\n",
       "<!-- log10_te&#45;&gt;log10_tau_line -->\n",
       "<g id=\"edge10\" class=\"edge\">\n",
       "<title>log10_te&#45;&gt;log10_tau_line</title>\n",
       "<path fill=\"none\" stroke=\"black\" d=\"M177,-319.67C189.84,-307.6 204.91,-293.43 218.44,-280.71\"/>\n",
       "<polygon fill=\"black\" stroke=\"black\" points=\"220.65,-283.44 225.53,-274.04 215.85,-278.34 220.65,-283.44\"/>\n",
       "</g>\n",
       "<!-- log10_te&#45;&gt;line_mu -->\n",
       "<g id=\"edge12\" class=\"edge\">\n",
       "<title>log10_te&#45;&gt;line_mu</title>\n",
       "<path fill=\"none\" stroke=\"black\" d=\"M158.08,-309.97C167.28,-282.54 181.5,-245.37 199.36,-215.32 204.87,-206.04 211.7,-196.73 218.6,-188.2\"/>\n",
       "<polygon fill=\"black\" stroke=\"black\" points=\"221.06,-190.71 224.79,-180.8 215.69,-186.22 221.06,-190.71\"/>\n",
       "</g>\n",
       "</g>\n",
       "</svg>\n"
      ],
      "text/plain": [
       "<graphviz.graphs.Digraph at 0x135349700>"
      ]
     },
     "execution_count": 8,
     "metadata": {},
     "output_type": "execute_result"
    }
   ],
   "source": [
    "# visualize model\n",
    "my_model.to_graphviz()"
   ]
  },
  {
   "cell_type": "code",
   "execution_count": 10,
   "metadata": {},
   "outputs": [
    {
     "name": "stderr",
     "output_type": "stream",
     "text": [
      "Sampling: [Rgal, kdar_w, line, log10_em, log10_te, vlsr]\n"
     ]
    }
   ],
   "source": [
    "import pymc as pm\n",
    "\n",
    "# sample prior predictive\n",
    "with my_model:\n",
    "    prior = pm.sample_prior_predictive(1000)"
   ]
  },
  {
   "cell_type": "code",
   "execution_count": 11,
   "metadata": {},
   "outputs": [
    {
     "name": "stderr",
     "output_type": "stream",
     "text": [
      "/var/folders/37/fz3nr39j6wz1yt2vpr9w4ctm0000gn/T/ipykernel_48888/3376056640.py:6: RuntimeWarning: invalid value encountered in log10\n",
      "  ax.hist(np.log10(prior.prior_predictive[\"line\"].data.flatten()), bins=20, color=\"gray\", edgecolor=\"k\", alpha=0.5)\n"
     ]
    },
    {
     "data": {
      "text/plain": [
       "Text(0.5, 0, 'log$_{10}$ Line (mJy beam$^{-1}$)')"
      ]
     },
     "execution_count": 11,
     "metadata": {},
     "output_type": "execute_result"
    },
    {
     "data": {
      "image/png": "[encoded data removed]",
      "text/plain": [
       "<Figure size 640x480 with 1 Axes>"
      ]
     },
     "metadata": {},
     "output_type": "display_data"
    }
   ],
   "source": [
    "import matplotlib.pyplot as plt\n",
    "import numpy as np\n",
    "\n",
    "# plot prior predictive samples\n",
    "fig, ax = plt.subplots()\n",
    "ax.hist(np.log10(prior.prior_predictive[\"line\"].data.flatten()), bins=20, color=\"gray\", edgecolor=\"k\", alpha=0.5)\n",
    "ax.axvline(np.log10(data[\"line\"]), color=\"r\", lw=2)\n",
    "ax.set_ylabel(\"Number of Samples\")\n",
    "ax.set_xlabel(\"log$_{10}$ Line (mJy beam$^{-1}$)\")"
   ]
  },
  {
   "cell_type": "code",
   "execution_count": 12,
   "metadata": {},
   "outputs": [
    {
     "data": {
      "text/plain": [
       "Text(0.5, 0, '$V_{\\\\rm LSR}$ (km s$^{-1}$)')"
      ]
     },
     "execution_count": 12,
     "metadata": {},
     "output_type": "execute_result"
    },
    {
     "data": {
      "image/png": "[encoded data removed]",
      "text/plain": [
       "<Figure size 640x480 with 1 Axes>"
      ]
     },
     "metadata": {},
     "output_type": "display_data"
    }
   ],
   "source": [
    "# plot prior predictive samples\n",
    "fig, ax = plt.subplots()\n",
    "ax.hist(prior.prior_predictive[\"vlsr\"].data.flatten(), bins=20, color=\"gray\", edgecolor=\"k\", alpha=0.5)\n",
    "ax.axvline(data[\"vlsr\"], color=\"r\", lw=2)\n",
    "ax.set_ylabel(\"Number of Samples\")\n",
    "ax.set_xlabel(r\"$V_{\\rm LSR}$ (km s$^{-1}$)\")"
   ]
  },
  {
   "cell_type": "code",
   "execution_count": 13,
   "metadata": {},
   "outputs": [
    {
     "name": "stdout",
     "output_type": "stream",
     "text": [
      "Not predicting Te\n"
     ]
    }
   ],
   "source": [
    "if not np.isnan(data[\"te\"]):\n",
    "    # plot prior predictive samples\n",
    "    fig, ax = plt.subplots()\n",
    "    ax.hist(np.log10(prior.prior_predictive[\"te\"].data.flatten()), bins=20, color=\"gray\", edgecolor=\"k\", alpha=0.5)\n",
    "    ax.axvline(np.log10(data[\"te\"]), color=\"r\", lw=2)\n",
    "    ax.set_ylabel(\"Number of Samples\")\n",
    "    ax.set_xlabel(\"log$_{10}$ $T_e$ (K)\")\n",
    "else:\n",
    "    print(\"Not predicting Te\")"
   ]
  },
  {
   "cell_type": "code",
   "execution_count": 14,
   "metadata": {},
   "outputs": [
    {
     "data": {
      "image/png": "[encoded data removed]",
      "text/plain": [
       "<Figure size 640x480 with 1 Axes>"
      ]
     },
     "metadata": {},
     "output_type": "display_data"
    }
   ],
   "source": [
    "# plot prior samples\n",
    "fig, ax = plt.subplots()\n",
    "bins = np.linspace(prior.prior[\"Rgal\"].min(), prior.prior[\"Rgal\"].max(), 100)\n",
    "if \"N\" in prior.prior[\"kdar\"]:\n",
    "    ax.hist(prior.prior[\"Rgal\"].sel(kdar=\"N\").data.flatten(), bins=bins, color=\"red\", edgecolor=\"k\", alpha=0.5, label=\"KDAR N\")\n",
    "ax.hist(prior.prior[\"Rgal\"].sel(kdar=\"F\").data.flatten(), bins=bins, color=\"gray\", edgecolor=\"k\", alpha=0.5, label=\"KDAR F\")\n",
    "if \"Rgal\" in data:\n",
    "    ax.axvline(data[\"Rgal\"], color=\"r\", lw=2)\n",
    "ax.set_ylabel(\"Number of Samples\")\n",
    "ax.set_xlabel(\"$R$ (kpc)\")\n",
    "_ = ax.legend(loc='upper right')"
   ]
  },
  {
   "cell_type": "code",
   "execution_count": 15,
   "metadata": {},
   "outputs": [
    {
     "data": {
      "image/png": "[encoded data removed]",
      "text/plain": [
       "<Figure size 640x480 with 1 Axes>"
      ]
     },
     "metadata": {},
     "output_type": "display_data"
    }
   ],
   "source": [
    "# plot prior samples\n",
    "fig, ax = plt.subplots()\n",
    "bins = np.linspace(prior.prior[\"distance\"].min(), prior.prior[\"distance\"].max(), 50)\n",
    "if \"N\" in prior.prior[\"kdar\"]:\n",
    "    ax.hist(prior.prior[\"distance\"].sel(kdar=\"N\").data.flatten(), bins=bins, color=\"red\", edgecolor=\"k\", alpha=0.5, label=\"KDAR N\")\n",
    "ax.hist(prior.prior[\"distance\"].sel(kdar=\"F\").data.flatten(), bins=bins, color=\"gray\", edgecolor=\"k\", alpha=0.5, label=\"KDAR F\")\n",
    "if \"distance\" in data:\n",
    "    ax.axvline(data[\"distance\"], color=\"r\", lw=2)\n",
    "ax.set_ylabel(\"Number of Samples\")\n",
    "ax.set_xlabel(\"$d$ (kpc)\")\n",
    "_ = ax.legend(loc='upper right')"
   ]
  },
  {
   "cell_type": "code",
   "execution_count": 16,
   "metadata": {},
   "outputs": [
    {
     "name": "stderr",
     "output_type": "stream",
     "text": [
      "/Users/ryanbakko/miniconda3/envs/physiokinematic/lib/python3.12/site-packages/pytensor/tensor/rewriting/elemwise.py:1027: UserWarning: Loop fusion failed because the resulting node would exceed the kernel argument limit.\n",
      "  warn(\n",
      "Auto-assigning NUTS sampler...\n",
      "Initializing NUTS using advi+adapt_diag...\n",
      "/Users/ryanbakko/miniconda3/envs/physiokinematic/lib/python3.12/site-packages/pytensor/tensor/rewriting/elemwise.py:1027: UserWarning: Loop fusion failed because the resulting node would exceed the kernel argument limit.\n",
      "  warn(\n"
     ]
    },
    {
     "data": {
      "application/vnd.jupyter.widget-view+json": {
       "model_id": "f5470352d4fc42c3bf0ce4b9831ec715",
       "version_major": 2,
       "version_minor": 0
      },
      "text/plain": [
       "Output()"
      ]
     },
     "metadata": {},
     "output_type": "display_data"
    },
    {
     "data": {
      "text/html": [
       "<pre style=\"white-space:pre;overflow-x:auto;line-height:normal;font-family:Menlo,'DejaVu Sans Mono',consolas,'Courier New',monospace\"></pre>\n"
      ],
      "text/plain": []
     },
     "metadata": {},
     "output_type": "display_data"
    },
    {
     "name": "stderr",
     "output_type": "stream",
     "text": [
      "Interrupted at 365 [0%]: Average Loss = 2.5673e+06\n",
      "/Users/ryanbakko/miniconda3/envs/physiokinematic/lib/python3.12/site-packages/pytensor/tensor/rewriting/elemwise.py:1027: UserWarning: Loop fusion failed because the resulting node would exceed the kernel argument limit.\n",
      "  warn(\n",
      "Multiprocess sampling (8 chains in 8 jobs)\n",
      "NUTS: [kdar_w, Rgal, log10_te, log10_em]\n",
      "WARNING (pytensor.tensor.blas): Using NumPy C-API based implementation for BLAS functions.\n"
     ]
    },
    {
     "ename": "KeyboardInterrupt",
     "evalue": "",
     "output_type": "error",
     "traceback": [
      "\u001b[0;31m---------------------------------------------------------------------------\u001b[0m",
      "\u001b[0;31mKeyboardInterrupt\u001b[0m                         Traceback (most recent call last)",
      "Cell \u001b[0;32mIn[16], line 3\u001b[0m\n\u001b[1;32m      1\u001b[0m \u001b[38;5;66;03m# sample posterior dont run on macbook. run on scylla \u001b[39;00m\n\u001b[1;32m      2\u001b[0m \u001b[38;5;28;01mwith\u001b[39;00m my_model:\n\u001b[0;32m----> 3\u001b[0m     trace \u001b[38;5;241m=\u001b[39m \u001b[43mpm\u001b[49m\u001b[38;5;241;43m.\u001b[39;49m\u001b[43msample\u001b[49m\u001b[43m(\u001b[49m\u001b[43minit\u001b[49m\u001b[38;5;241;43m=\u001b[39;49m\u001b[38;5;124;43m\"\u001b[39;49m\u001b[38;5;124;43madvi+adapt_diag\u001b[39;49m\u001b[38;5;124;43m\"\u001b[39;49m\u001b[43m,\u001b[49m\u001b[43m \u001b[49m\u001b[43mchains\u001b[49m\u001b[38;5;241;43m=\u001b[39;49m\u001b[38;5;241;43m8\u001b[39;49m\u001b[43m,\u001b[49m\u001b[43m \u001b[49m\u001b[43mcores\u001b[49m\u001b[38;5;241;43m=\u001b[39;49m\u001b[38;5;241;43m8\u001b[39;49m\u001b[43m,\u001b[49m\u001b[43m \u001b[49m\u001b[43mtune\u001b[49m\u001b[38;5;241;43m=\u001b[39;49m\u001b[38;5;241;43m1000\u001b[39;49m\u001b[43m,\u001b[49m\u001b[43m \u001b[49m\u001b[43mdraws\u001b[49m\u001b[38;5;241;43m=\u001b[39;49m\u001b[38;5;241;43m1000\u001b[39;49m\u001b[43m,\u001b[49m\u001b[43m \u001b[49m\u001b[43mtarget_accept\u001b[49m\u001b[38;5;241;43m=\u001b[39;49m\u001b[38;5;241;43m0.85\u001b[39;49m\u001b[43m)\u001b[49m\n",
      "File \u001b[0;32m~/miniconda3/envs/physiokinematic/lib/python3.12/site-packages/pymc/sampling/mcmc.py:862\u001b[0m, in \u001b[0;36msample\u001b[0;34m(draws, tune, chains, cores, random_seed, progressbar, progressbar_theme, step, var_names, nuts_sampler, initvals, init, jitter_max_retries, n_init, trace, discard_tuned_samples, compute_convergence_checks, keep_warning_stat, return_inferencedata, idata_kwargs, nuts_sampler_kwargs, callback, mp_ctx, blas_cores, model, **kwargs)\u001b[0m\n\u001b[1;32m    860\u001b[0m _print_step_hierarchy(step)\n\u001b[1;32m    861\u001b[0m \u001b[38;5;28;01mtry\u001b[39;00m:\n\u001b[0;32m--> 862\u001b[0m     \u001b[43m_mp_sample\u001b[49m\u001b[43m(\u001b[49m\u001b[38;5;241;43m*\u001b[39;49m\u001b[38;5;241;43m*\u001b[39;49m\u001b[43msample_args\u001b[49m\u001b[43m,\u001b[49m\u001b[43m \u001b[49m\u001b[38;5;241;43m*\u001b[39;49m\u001b[38;5;241;43m*\u001b[39;49m\u001b[43mparallel_args\u001b[49m\u001b[43m)\u001b[49m\n\u001b[1;32m    863\u001b[0m \u001b[38;5;28;01mexcept\u001b[39;00m pickle\u001b[38;5;241m.\u001b[39mPickleError:\n\u001b[1;32m    864\u001b[0m     _log\u001b[38;5;241m.\u001b[39mwarning(\u001b[38;5;124m\"\u001b[39m\u001b[38;5;124mCould not pickle model, sampling singlethreaded.\u001b[39m\u001b[38;5;124m\"\u001b[39m)\n",
      "File \u001b[0;32m~/miniconda3/envs/physiokinematic/lib/python3.12/site-packages/pymc/sampling/mcmc.py:1260\u001b[0m, in \u001b[0;36m_mp_sample\u001b[0;34m(draws, tune, step, chains, cores, rngs, start, progressbar, progressbar_theme, traces, model, callback, blas_cores, mp_ctx, **kwargs)\u001b[0m\n\u001b[1;32m   1257\u001b[0m \u001b[38;5;66;03m# We did draws += tune in pm.sample\u001b[39;00m\n\u001b[1;32m   1258\u001b[0m draws \u001b[38;5;241m-\u001b[39m\u001b[38;5;241m=\u001b[39m tune\n\u001b[0;32m-> 1260\u001b[0m sampler \u001b[38;5;241m=\u001b[39m \u001b[43mps\u001b[49m\u001b[38;5;241;43m.\u001b[39;49m\u001b[43mParallelSampler\u001b[49m\u001b[43m(\u001b[49m\n\u001b[1;32m   1261\u001b[0m \u001b[43m    \u001b[49m\u001b[43mdraws\u001b[49m\u001b[38;5;241;43m=\u001b[39;49m\u001b[43mdraws\u001b[49m\u001b[43m,\u001b[49m\n\u001b[1;32m   1262\u001b[0m \u001b[43m    \u001b[49m\u001b[43mtune\u001b[49m\u001b[38;5;241;43m=\u001b[39;49m\u001b[43mtune\u001b[49m\u001b[43m,\u001b[49m\n\u001b[1;32m   1263\u001b[0m \u001b[43m    \u001b[49m\u001b[43mchains\u001b[49m\u001b[38;5;241;43m=\u001b[39;49m\u001b[43mchains\u001b[49m\u001b[43m,\u001b[49m\n\u001b[1;32m   1264\u001b[0m \u001b[43m    \u001b[49m\u001b[43mcores\u001b[49m\u001b[38;5;241;43m=\u001b[39;49m\u001b[43mcores\u001b[49m\u001b[43m,\u001b[49m\n\u001b[1;32m   1265\u001b[0m \u001b[43m    \u001b[49m\u001b[43mrngs\u001b[49m\u001b[38;5;241;43m=\u001b[39;49m\u001b[43mrngs\u001b[49m\u001b[43m,\u001b[49m\n\u001b[1;32m   1266\u001b[0m \u001b[43m    \u001b[49m\u001b[43mstart_points\u001b[49m\u001b[38;5;241;43m=\u001b[39;49m\u001b[43mstart\u001b[49m\u001b[43m,\u001b[49m\n\u001b[1;32m   1267\u001b[0m \u001b[43m    \u001b[49m\u001b[43mstep_method\u001b[49m\u001b[38;5;241;43m=\u001b[39;49m\u001b[43mstep\u001b[49m\u001b[43m,\u001b[49m\n\u001b[1;32m   1268\u001b[0m \u001b[43m    \u001b[49m\u001b[43mprogressbar\u001b[49m\u001b[38;5;241;43m=\u001b[39;49m\u001b[43mprogressbar\u001b[49m\u001b[43m,\u001b[49m\n\u001b[1;32m   1269\u001b[0m \u001b[43m    \u001b[49m\u001b[43mprogressbar_theme\u001b[49m\u001b[38;5;241;43m=\u001b[39;49m\u001b[43mprogressbar_theme\u001b[49m\u001b[43m,\u001b[49m\n\u001b[1;32m   1270\u001b[0m \u001b[43m    \u001b[49m\u001b[43mblas_cores\u001b[49m\u001b[38;5;241;43m=\u001b[39;49m\u001b[43mblas_cores\u001b[49m\u001b[43m,\u001b[49m\n\u001b[1;32m   1271\u001b[0m \u001b[43m    \u001b[49m\u001b[43mmp_ctx\u001b[49m\u001b[38;5;241;43m=\u001b[39;49m\u001b[43mmp_ctx\u001b[49m\u001b[43m,\u001b[49m\n\u001b[1;32m   1272\u001b[0m \u001b[43m\u001b[49m\u001b[43m)\u001b[49m\n\u001b[1;32m   1273\u001b[0m \u001b[38;5;28;01mtry\u001b[39;00m:\n\u001b[1;32m   1274\u001b[0m     \u001b[38;5;28;01mtry\u001b[39;00m:\n",
      "File \u001b[0;32m~/miniconda3/envs/physiokinematic/lib/python3.12/site-packages/pymc/sampling/parallel.py:418\u001b[0m, in \u001b[0;36mParallelSampler.__init__\u001b[0;34m(self, draws, tune, chains, cores, rngs, start_points, step_method, progressbar, progressbar_theme, blas_cores, mp_ctx)\u001b[0m\n\u001b[1;32m    414\u001b[0m \u001b[38;5;28;01mif\u001b[39;00m mp_ctx\u001b[38;5;241m.\u001b[39mget_start_method() \u001b[38;5;241m!=\u001b[39m \u001b[38;5;124m\"\u001b[39m\u001b[38;5;124mfork\u001b[39m\u001b[38;5;124m\"\u001b[39m:\n\u001b[1;32m    415\u001b[0m     step_method_pickled \u001b[38;5;241m=\u001b[39m cloudpickle\u001b[38;5;241m.\u001b[39mdumps(step_method, protocol\u001b[38;5;241m=\u001b[39m\u001b[38;5;241m-\u001b[39m\u001b[38;5;241m1\u001b[39m)\n\u001b[1;32m    417\u001b[0m \u001b[38;5;28mself\u001b[39m\u001b[38;5;241m.\u001b[39m_samplers \u001b[38;5;241m=\u001b[39m [\n\u001b[0;32m--> 418\u001b[0m     \u001b[43mProcessAdapter\u001b[49m\u001b[43m(\u001b[49m\n\u001b[1;32m    419\u001b[0m \u001b[43m        \u001b[49m\u001b[43mdraws\u001b[49m\u001b[43m,\u001b[49m\n\u001b[1;32m    420\u001b[0m \u001b[43m        \u001b[49m\u001b[43mtune\u001b[49m\u001b[43m,\u001b[49m\n\u001b[1;32m    421\u001b[0m \u001b[43m        \u001b[49m\u001b[43mstep_method\u001b[49m\u001b[43m,\u001b[49m\n\u001b[1;32m    422\u001b[0m \u001b[43m        \u001b[49m\u001b[43mstep_method_pickled\u001b[49m\u001b[43m,\u001b[49m\n\u001b[1;32m    423\u001b[0m \u001b[43m        \u001b[49m\u001b[43mchain\u001b[49m\u001b[43m,\u001b[49m\n\u001b[1;32m    424\u001b[0m \u001b[43m        \u001b[49m\u001b[43mrng\u001b[49m\u001b[43m,\u001b[49m\n\u001b[1;32m    425\u001b[0m \u001b[43m        \u001b[49m\u001b[43mstart\u001b[49m\u001b[43m,\u001b[49m\n\u001b[1;32m    426\u001b[0m \u001b[43m        \u001b[49m\u001b[43mblas_cores\u001b[49m\u001b[43m,\u001b[49m\n\u001b[1;32m    427\u001b[0m \u001b[43m        \u001b[49m\u001b[43mmp_ctx\u001b[49m\u001b[43m,\u001b[49m\n\u001b[1;32m    428\u001b[0m \u001b[43m    \u001b[49m\u001b[43m)\u001b[49m\n\u001b[1;32m    429\u001b[0m     \u001b[38;5;28;01mfor\u001b[39;00m chain, rng, start \u001b[38;5;129;01min\u001b[39;00m \u001b[38;5;28mzip\u001b[39m(\u001b[38;5;28mrange\u001b[39m(chains), rngs, start_points)\n\u001b[1;32m    430\u001b[0m ]\n\u001b[1;32m    432\u001b[0m \u001b[38;5;28mself\u001b[39m\u001b[38;5;241m.\u001b[39m_inactive \u001b[38;5;241m=\u001b[39m \u001b[38;5;28mself\u001b[39m\u001b[38;5;241m.\u001b[39m_samplers\u001b[38;5;241m.\u001b[39mcopy()\n\u001b[1;32m    433\u001b[0m \u001b[38;5;28mself\u001b[39m\u001b[38;5;241m.\u001b[39m_finished: \u001b[38;5;28mlist\u001b[39m[ProcessAdapter] \u001b[38;5;241m=\u001b[39m []\n",
      "File \u001b[0;32m~/miniconda3/envs/physiokinematic/lib/python3.12/site-packages/pymc/sampling/parallel.py:274\u001b[0m, in \u001b[0;36mProcessAdapter.__init__\u001b[0;34m(self, draws, tune, step_method, step_method_pickled, chain, rng, start, blas_cores, mp_ctx)\u001b[0m\n\u001b[1;32m    255\u001b[0m     step_method_send \u001b[38;5;241m=\u001b[39m step_method\n\u001b[1;32m    257\u001b[0m \u001b[38;5;28mself\u001b[39m\u001b[38;5;241m.\u001b[39m_process \u001b[38;5;241m=\u001b[39m mp_ctx\u001b[38;5;241m.\u001b[39mProcess(\n\u001b[1;32m    258\u001b[0m     daemon\u001b[38;5;241m=\u001b[39m\u001b[38;5;28;01mTrue\u001b[39;00m,\n\u001b[1;32m    259\u001b[0m     name\u001b[38;5;241m=\u001b[39mprocess_name,\n\u001b[0;32m   (...)\u001b[0m\n\u001b[1;32m    272\u001b[0m     ),\n\u001b[1;32m    273\u001b[0m )\n\u001b[0;32m--> 274\u001b[0m \u001b[38;5;28;43mself\u001b[39;49m\u001b[38;5;241;43m.\u001b[39;49m\u001b[43m_process\u001b[49m\u001b[38;5;241;43m.\u001b[39;49m\u001b[43mstart\u001b[49m\u001b[43m(\u001b[49m\u001b[43m)\u001b[49m\n\u001b[1;32m    275\u001b[0m \u001b[38;5;66;03m# Close the remote pipe, so that we get notified if the other\u001b[39;00m\n\u001b[1;32m    276\u001b[0m \u001b[38;5;66;03m# end is closed.\u001b[39;00m\n\u001b[1;32m    277\u001b[0m remote_conn\u001b[38;5;241m.\u001b[39mclose()\n",
      "File \u001b[0;32m~/miniconda3/envs/physiokinematic/lib/python3.12/multiprocessing/process.py:121\u001b[0m, in \u001b[0;36mBaseProcess.start\u001b[0;34m(self)\u001b[0m\n\u001b[1;32m    118\u001b[0m \u001b[38;5;28;01massert\u001b[39;00m \u001b[38;5;129;01mnot\u001b[39;00m _current_process\u001b[38;5;241m.\u001b[39m_config\u001b[38;5;241m.\u001b[39mget(\u001b[38;5;124m'\u001b[39m\u001b[38;5;124mdaemon\u001b[39m\u001b[38;5;124m'\u001b[39m), \\\n\u001b[1;32m    119\u001b[0m        \u001b[38;5;124m'\u001b[39m\u001b[38;5;124mdaemonic processes are not allowed to have children\u001b[39m\u001b[38;5;124m'\u001b[39m\n\u001b[1;32m    120\u001b[0m _cleanup()\n\u001b[0;32m--> 121\u001b[0m \u001b[38;5;28mself\u001b[39m\u001b[38;5;241m.\u001b[39m_popen \u001b[38;5;241m=\u001b[39m \u001b[38;5;28;43mself\u001b[39;49m\u001b[38;5;241;43m.\u001b[39;49m\u001b[43m_Popen\u001b[49m\u001b[43m(\u001b[49m\u001b[38;5;28;43mself\u001b[39;49m\u001b[43m)\u001b[49m\n\u001b[1;32m    122\u001b[0m \u001b[38;5;28mself\u001b[39m\u001b[38;5;241m.\u001b[39m_sentinel \u001b[38;5;241m=\u001b[39m \u001b[38;5;28mself\u001b[39m\u001b[38;5;241m.\u001b[39m_popen\u001b[38;5;241m.\u001b[39msentinel\n\u001b[1;32m    123\u001b[0m \u001b[38;5;66;03m# Avoid a refcycle if the target function holds an indirect\u001b[39;00m\n\u001b[1;32m    124\u001b[0m \u001b[38;5;66;03m# reference to the process object (see bpo-30775)\u001b[39;00m\n",
      "File \u001b[0;32m~/miniconda3/envs/physiokinematic/lib/python3.12/multiprocessing/context.py:301\u001b[0m, in \u001b[0;36mForkServerProcess._Popen\u001b[0;34m(process_obj)\u001b[0m\n\u001b[1;32m    298\u001b[0m \u001b[38;5;129m@staticmethod\u001b[39m\n\u001b[1;32m    299\u001b[0m \u001b[38;5;28;01mdef\u001b[39;00m \u001b[38;5;21m_Popen\u001b[39m(process_obj):\n\u001b[1;32m    300\u001b[0m     \u001b[38;5;28;01mfrom\u001b[39;00m \u001b[38;5;21;01m.\u001b[39;00m\u001b[38;5;21;01mpopen_forkserver\u001b[39;00m \u001b[38;5;28;01mimport\u001b[39;00m Popen\n\u001b[0;32m--> 301\u001b[0m     \u001b[38;5;28;01mreturn\u001b[39;00m \u001b[43mPopen\u001b[49m\u001b[43m(\u001b[49m\u001b[43mprocess_obj\u001b[49m\u001b[43m)\u001b[49m\n",
      "File \u001b[0;32m~/miniconda3/envs/physiokinematic/lib/python3.12/multiprocessing/popen_forkserver.py:35\u001b[0m, in \u001b[0;36mPopen.__init__\u001b[0;34m(self, process_obj)\u001b[0m\n\u001b[1;32m     33\u001b[0m \u001b[38;5;28;01mdef\u001b[39;00m \u001b[38;5;21m__init__\u001b[39m(\u001b[38;5;28mself\u001b[39m, process_obj):\n\u001b[1;32m     34\u001b[0m     \u001b[38;5;28mself\u001b[39m\u001b[38;5;241m.\u001b[39m_fds \u001b[38;5;241m=\u001b[39m []\n\u001b[0;32m---> 35\u001b[0m     \u001b[38;5;28;43msuper\u001b[39;49m\u001b[43m(\u001b[49m\u001b[43m)\u001b[49m\u001b[38;5;241;43m.\u001b[39;49m\u001b[38;5;21;43m__init__\u001b[39;49m\u001b[43m(\u001b[49m\u001b[43mprocess_obj\u001b[49m\u001b[43m)\u001b[49m\n",
      "File \u001b[0;32m~/miniconda3/envs/physiokinematic/lib/python3.12/multiprocessing/popen_fork.py:19\u001b[0m, in \u001b[0;36mPopen.__init__\u001b[0;34m(self, process_obj)\u001b[0m\n\u001b[1;32m     17\u001b[0m \u001b[38;5;28mself\u001b[39m\u001b[38;5;241m.\u001b[39mreturncode \u001b[38;5;241m=\u001b[39m \u001b[38;5;28;01mNone\u001b[39;00m\n\u001b[1;32m     18\u001b[0m \u001b[38;5;28mself\u001b[39m\u001b[38;5;241m.\u001b[39mfinalizer \u001b[38;5;241m=\u001b[39m \u001b[38;5;28;01mNone\u001b[39;00m\n\u001b[0;32m---> 19\u001b[0m \u001b[38;5;28;43mself\u001b[39;49m\u001b[38;5;241;43m.\u001b[39;49m\u001b[43m_launch\u001b[49m\u001b[43m(\u001b[49m\u001b[43mprocess_obj\u001b[49m\u001b[43m)\u001b[49m\n",
      "File \u001b[0;32m~/miniconda3/envs/physiokinematic/lib/python3.12/multiprocessing/popen_forkserver.py:58\u001b[0m, in \u001b[0;36mPopen._launch\u001b[0;34m(self, process_obj)\u001b[0m\n\u001b[1;32m     55\u001b[0m \u001b[38;5;28mself\u001b[39m\u001b[38;5;241m.\u001b[39mfinalizer \u001b[38;5;241m=\u001b[39m util\u001b[38;5;241m.\u001b[39mFinalize(\u001b[38;5;28mself\u001b[39m, util\u001b[38;5;241m.\u001b[39mclose_fds,\n\u001b[1;32m     56\u001b[0m                                (_parent_w, \u001b[38;5;28mself\u001b[39m\u001b[38;5;241m.\u001b[39msentinel))\n\u001b[1;32m     57\u001b[0m \u001b[38;5;28;01mwith\u001b[39;00m \u001b[38;5;28mopen\u001b[39m(w, \u001b[38;5;124m'\u001b[39m\u001b[38;5;124mwb\u001b[39m\u001b[38;5;124m'\u001b[39m, closefd\u001b[38;5;241m=\u001b[39m\u001b[38;5;28;01mTrue\u001b[39;00m) \u001b[38;5;28;01mas\u001b[39;00m f:\n\u001b[0;32m---> 58\u001b[0m     \u001b[43mf\u001b[49m\u001b[38;5;241;43m.\u001b[39;49m\u001b[43mwrite\u001b[49m\u001b[43m(\u001b[49m\u001b[43mbuf\u001b[49m\u001b[38;5;241;43m.\u001b[39;49m\u001b[43mgetbuffer\u001b[49m\u001b[43m(\u001b[49m\u001b[43m)\u001b[49m\u001b[43m)\u001b[49m\n\u001b[1;32m     59\u001b[0m \u001b[38;5;28mself\u001b[39m\u001b[38;5;241m.\u001b[39mpid \u001b[38;5;241m=\u001b[39m forkserver\u001b[38;5;241m.\u001b[39mread_signed(\u001b[38;5;28mself\u001b[39m\u001b[38;5;241m.\u001b[39msentinel)\n",
      "\u001b[0;31mKeyboardInterrupt\u001b[0m: "
     ]
    }
   ],
   "source": [
    "# sample posterior dont run on macbook. run on scylla \n",
    "with my_model:\n",
    "    trace = pm.sample(init=\"advi+adapt_diag\", chains=8, cores=8, tune=1000, draws=1000, target_accept=0.85)"
   ]
  },
  {
   "cell_type": "code",
   "execution_count": null,
   "metadata": {},
   "outputs": [],
   "source": [
    " pm.summary(trace)"
   ]
  },
  {
   "cell_type": "code",
   "execution_count": null,
   "metadata": {},
   "outputs": [],
   "source": [
    "pm.plot_trace(trace)"
   ]
  },
  {
   "cell_type": "code",
   "execution_count": null,
   "metadata": {},
   "outputs": [],
   "source": [
    "pm.plot_pair(trace, kind=\"kde\", var_names=[\"Rgal\", \"log10_te\", \"log10_em\"], marginals=True)"
   ]
  },
  {
   "cell_type": "code",
   "execution_count": null,
   "metadata": {},
   "outputs": [],
   "source": [
    "# sample posterior predictive\n",
    "with my_model:\n",
    "    posterior = pm.sample_posterior_predictive(trace.sel(draw=slice(None, None, 10)))"
   ]
  },
  {
   "cell_type": "code",
   "execution_count": null,
   "metadata": {},
   "outputs": [],
   "source": [
    "# plot posteriorr predictive samples\n",
    "fig, ax = plt.subplots()\n",
    "ax.hist(np.log10(posterior.posterior_predictive[\"line\"].data.flatten()), bins=20, color=\"gray\", edgecolor=\"k\", alpha=0.5)\n",
    "ax.axvline(np.log10(data[\"line\"]), color=\"r\", lw=2)\n",
    "ax.set_ylabel(\"Number of Samples\")\n",
    "ax.set_xlabel(\"log$_{10}$ Line (mJy beam$^{-1}$)\")"
   ]
  },
  {
   "cell_type": "code",
   "execution_count": null,
   "metadata": {},
   "outputs": [],
   "source": [
    "# plot prior predictive samples\n",
    "fig, ax = plt.subplots()\n",
    "ax.hist(posterior.posterior_predictive[\"vlsr\"].data.flatten(), bins=20, color=\"gray\", edgecolor=\"k\", alpha=0.5)\n",
    "ax.axvline(data[\"vlsr\"], color=\"r\", lw=2)\n",
    "ax.set_ylabel(\"Number of Samples\")\n",
    "ax.set_xlabel(r\"$V_{\\rm LSR}$ (km s$^{-1}$)\")"
   ]
  },
  {
   "cell_type": "code",
   "execution_count": null,
   "metadata": {},
   "outputs": [],
   "source": [
    "if not np.isnan(data[\"te\"]):\n",
    "    # plot prior predictive samples\n",
    "    fig, ax = plt.subplots()\n",
    "    ax.hist(np.log10(posterior.posterior_predictive[\"te\"].data.flatten()), bins=20, color=\"gray\", edgecolor=\"k\", alpha=0.5)\n",
    "    ax.axvline(np.log10(data[\"te\"]), color=\"r\", lw=2)\n",
    "    ax.set_ylabel(\"Number of Samples\")\n",
    "    ax.set_xlabel(\"log$_{10}$ $T_e$ (K)\")"
   ]
  },
  {
   "cell_type": "code",
   "execution_count": null,
   "metadata": {},
   "outputs": [],
   "source": [
    "# plot prior predictive samples\n",
    "fig, ax = plt.subplots()\n",
    "ax.hist(trace.posterior[\"kdar_w\"].sel(kdar=\"F\").data.flatten(), bins=20, color=\"gray\", edgecolor=\"k\", alpha=0.5)\n",
    "ax.set_ylabel(\"Number of Samples\")\n",
    "ax.set_xlabel(r\"$P_{\\rm far}$\")"
   ]
  },
  {
   "cell_type": "code",
   "execution_count": null,
   "metadata": {},
   "outputs": [],
   "source": [
    "# plot prior predictive samples\n",
    "fig, ax = plt.subplots()\n",
    "ax.hist(trace.posterior[\"distance\"].sel(kdar=\"F\").data.flatten(), bins=20, color=\"gray\", edgecolor=\"k\", alpha=0.5)\n",
    "#ax.axvline(data[\"distance\"], color=\"r\", lw=2)\n",
    "ax.set_ylabel(\"Number of Samples\")\n",
    "ax.set_xlabel(\"$d$ (kpc)\")"
   ]
  },
  {
   "cell_type": "code",
   "execution_count": null,
   "metadata": {},
   "outputs": [],
   "source": [
    "# Posterior predictive plots\n",
    "if not np.isnan(data[\"te\"]):\n",
    "    fig, ax = plt.subplots()\n",
    "    ax.hist(np.log10(trace.posterior_predictive[\"te\"].data.flatten()), bins=20, color=\"gray\", edgecolor=\"k\", alpha=0.5)\n",
    "    ax.axvline(np.log10(data[\"te\"]), color=\"r\", lw=2)\n",
    "    ax.set_ylabel(\"Number of Samples\")\n",
    "    ax.set_xlabel(\"log$_{10}$ $T_e$ (K)\")\n",
    "\n",
    "fig, ax = plt.subplots()\n",
    "ax.hist(trace.posterior[\"kdar_w\"].sel(kdar=\"F\").data.flatten(), bins=20, color=\"gray\", edgecolor=\"k\", alpha=0.5)\n",
    "ax.set_ylabel(\"Number of Samples\")\n",
    "ax.set_xlabel(r\"$P_{\\rm far}$\")\n",
    "\n",
    "fig, ax = plt.subplots()\n",
    "ax.hist(trace.posterior[\"distance\"].sel(kdar=\"F\").data.flatten(), bins=20, color=\"gray\", edgecolor=\"k\", alpha=0.5)\n",
    "ax.axvline(data[\"distance\"], color=\"r\", lw=2)\n",
    "ax.set_ylabel(\"Number of Samples\")\n",
    "ax.set_xlabel(\"$d$ (kpc)\")"
   ]
  },
  {
   "cell_type": "code",
   "execution_count": null,
   "metadata": {},
   "outputs": [],
   "source": []
  },
  {
   "cell_type": "code",
   "execution_count": null,
   "metadata": {},
   "outputs": [],
   "source": []
  },
  {
   "cell_type": "code",
   "execution_count": null,
   "metadata": {},
   "outputs": [],
   "source": []
  }
 ],
 "metadata": {
  "kernelspec": {
   "display_name": "Python 3 (ipykernel)",
   "language": "python",
   "name": "python3"
  },
  "language_info": {
   "codemirror_mode": {
    "name": "ipython",
    "version": 3
   },
   "file_extension": ".py",
   "mimetype": "text/x-python",
   "name": "python",
   "nbconvert_exporter": "python",
   "pygments_lexer": "ipython3",
   "version": "3.12.7"
  }
 },
 "nbformat": 4,
 "nbformat_minor": 4
}
